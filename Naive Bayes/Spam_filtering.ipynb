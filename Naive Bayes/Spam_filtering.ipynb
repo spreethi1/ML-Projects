{
 "cells": [
  {
   "cell_type": "markdown",
   "id": "7aa482c4",
   "metadata": {},
   "source": [
    "# Spam Filtering\n"
   ]
  },
  {
   "cell_type": "markdown",
   "id": "64c3aa47",
   "metadata": {},
   "source": [
    "### Importing libraries"
   ]
  },
  {
   "cell_type": "code",
   "execution_count": 2,
   "id": "0faeb3f2",
   "metadata": {},
   "outputs": [],
   "source": [
    "import pandas as pd\n",
    "from sklearn.model_selection import train_test_split\n",
    "import re"
   ]
  },
  {
   "cell_type": "code",
   "execution_count": 3,
   "id": "99600871",
   "metadata": {},
   "outputs": [],
   "source": [
    "data = pd.read_csv(\"SMSSpamCollection\", sep='\\t', header=None, names=['Label', 'SMS'])"
   ]
  },
  {
   "cell_type": "code",
   "execution_count": 4,
   "id": "5f920bef",
   "metadata": {},
   "outputs": [
    {
     "data": {
      "text/html": [
       "<div>\n",
       "<style scoped>\n",
       "    .dataframe tbody tr th:only-of-type {\n",
       "        vertical-align: middle;\n",
       "    }\n",
       "\n",
       "    .dataframe tbody tr th {\n",
       "        vertical-align: top;\n",
       "    }\n",
       "\n",
       "    .dataframe thead th {\n",
       "        text-align: right;\n",
       "    }\n",
       "</style>\n",
       "<table border=\"1\" class=\"dataframe\">\n",
       "  <thead>\n",
       "    <tr style=\"text-align: right;\">\n",
       "      <th></th>\n",
       "      <th>Label</th>\n",
       "      <th>SMS</th>\n",
       "    </tr>\n",
       "  </thead>\n",
       "  <tbody>\n",
       "    <tr>\n",
       "      <th>0</th>\n",
       "      <td>ham</td>\n",
       "      <td>Go until jurong point, crazy.. Available only ...</td>\n",
       "    </tr>\n",
       "    <tr>\n",
       "      <th>1</th>\n",
       "      <td>ham</td>\n",
       "      <td>Ok lar... Joking wif u oni...</td>\n",
       "    </tr>\n",
       "    <tr>\n",
       "      <th>2</th>\n",
       "      <td>spam</td>\n",
       "      <td>Free entry in 2 a wkly comp to win FA Cup fina...</td>\n",
       "    </tr>\n",
       "    <tr>\n",
       "      <th>3</th>\n",
       "      <td>ham</td>\n",
       "      <td>U dun say so early hor... U c already then say...</td>\n",
       "    </tr>\n",
       "    <tr>\n",
       "      <th>4</th>\n",
       "      <td>ham</td>\n",
       "      <td>Nah I don't think he goes to usf, he lives aro...</td>\n",
       "    </tr>\n",
       "  </tbody>\n",
       "</table>\n",
       "</div>"
      ],
      "text/plain": [
       "  Label                                                SMS\n",
       "0   ham  Go until jurong point, crazy.. Available only ...\n",
       "1   ham                      Ok lar... Joking wif u oni...\n",
       "2  spam  Free entry in 2 a wkly comp to win FA Cup fina...\n",
       "3   ham  U dun say so early hor... U c already then say...\n",
       "4   ham  Nah I don't think he goes to usf, he lives aro..."
      ]
     },
     "execution_count": 4,
     "metadata": {},
     "output_type": "execute_result"
    }
   ],
   "source": [
    "data.head()"
   ]
  },
  {
   "cell_type": "code",
   "execution_count": 5,
   "id": "54955254",
   "metadata": {},
   "outputs": [
    {
     "data": {
      "text/plain": [
       "(5572, 2)"
      ]
     },
     "execution_count": 5,
     "metadata": {},
     "output_type": "execute_result"
    }
   ],
   "source": [
    "data.shape"
   ]
  },
  {
   "cell_type": "markdown",
   "id": "dfbae722",
   "metadata": {},
   "source": [
    "Check for null values\n"
   ]
  },
  {
   "cell_type": "code",
   "execution_count": 6,
   "id": "0029d7ad",
   "metadata": {},
   "outputs": [
    {
     "data": {
      "text/plain": [
       "Label    0\n",
       "SMS      0\n",
       "dtype: int64"
      ]
     },
     "execution_count": 6,
     "metadata": {},
     "output_type": "execute_result"
    }
   ],
   "source": [
    "data.isnull().sum()"
   ]
  },
  {
   "cell_type": "code",
   "execution_count": 7,
   "id": "e374c235",
   "metadata": {},
   "outputs": [
    {
     "data": {
      "text/plain": [
       "ham     4825\n",
       "spam     747\n",
       "Name: Label, dtype: int64"
      ]
     },
     "execution_count": 7,
     "metadata": {},
     "output_type": "execute_result"
    }
   ],
   "source": [
    "data['Label'].value_counts()"
   ]
  },
  {
   "cell_type": "code",
   "execution_count": 8,
   "id": "56e0fded",
   "metadata": {},
   "outputs": [
    {
     "data": {
      "text/plain": [
       "ham     0.865937\n",
       "spam    0.134063\n",
       "Name: Label, dtype: float64"
      ]
     },
     "execution_count": 8,
     "metadata": {},
     "output_type": "execute_result"
    }
   ],
   "source": [
    "data['Label'].value_counts(normalize = True)"
   ]
  },
  {
   "cell_type": "markdown",
   "id": "e50328a0",
   "metadata": {},
   "source": [
    "From here, we can say that about 87% of the messages are non-spam(ham) and the remaining ones are spam."
   ]
  },
  {
   "cell_type": "markdown",
   "id": "6f5c5a2b",
   "metadata": {},
   "source": [
    "## Splitting the data"
   ]
  },
  {
   "cell_type": "code",
   "execution_count": 9,
   "id": "a1a28c00",
   "metadata": {},
   "outputs": [],
   "source": [
    "random_data = data.sample(frac=1, random_state=1)"
   ]
  },
  {
   "cell_type": "code",
   "execution_count": 10,
   "id": "1159aa62",
   "metadata": {},
   "outputs": [],
   "source": [
    "train_size = 0.8\n",
    "test_size = 0.2\n",
    "\n",
    "train_data, test_data = train_test_split(random_data, test_size=test_size, train_size=train_size, random_state=1)"
   ]
  },
  {
   "cell_type": "code",
   "execution_count": 11,
   "id": "cf78d1c6",
   "metadata": {},
   "outputs": [
    {
     "name": "stdout",
     "output_type": "stream",
     "text": [
      "(4457, 2)\n",
      "(1115, 2)\n"
     ]
    }
   ],
   "source": [
    "print(train_data.shape)\n",
    "print(test_data.shape)"
   ]
  },
  {
   "cell_type": "code",
   "execution_count": 12,
   "id": "776b88d3",
   "metadata": {},
   "outputs": [
    {
     "data": {
      "text/plain": [
       "ham     0.866951\n",
       "spam    0.133049\n",
       "Name: Label, dtype: float64"
      ]
     },
     "execution_count": 12,
     "metadata": {},
     "output_type": "execute_result"
    }
   ],
   "source": [
    "train_data['Label'].value_counts(normalize = True)"
   ]
  },
  {
   "cell_type": "code",
   "execution_count": 13,
   "id": "0cd3a19c",
   "metadata": {},
   "outputs": [
    {
     "data": {
      "text/plain": [
       "ham     0.861883\n",
       "spam    0.138117\n",
       "Name: Label, dtype: float64"
      ]
     },
     "execution_count": 13,
     "metadata": {},
     "output_type": "execute_result"
    }
   ],
   "source": [
    "test_data['Label'].value_counts(normalize = True)"
   ]
  },
  {
   "cell_type": "markdown",
   "id": "72710f51",
   "metadata": {},
   "source": [
    "## Data cleaning"
   ]
  },
  {
   "cell_type": "markdown",
   "id": "c88aca55",
   "metadata": {},
   "source": [
    "Changing the case to lower and removing the punctuation marks."
   ]
  },
  {
   "cell_type": "code",
   "execution_count": 14,
   "id": "73fe05d1",
   "metadata": {},
   "outputs": [
    {
     "name": "stderr",
     "output_type": "stream",
     "text": [
      "C:\\Users\\GR\\AppData\\Local\\Temp\\ipykernel_10272\\2281705259.py:1: FutureWarning: The default value of regex will change from True to False in a future version.\n",
      "  train_data['SMS'] = train_data['SMS'].str.replace('\\W', ' ')\n"
     ]
    }
   ],
   "source": [
    "train_data['SMS'] = train_data['SMS'].str.replace('\\W', ' ') \n",
    "train_data['SMS'] = train_data['SMS'].str.lower()"
   ]
  },
  {
   "cell_type": "code",
   "execution_count": 15,
   "id": "3f42c37e",
   "metadata": {
    "scrolled": true
   },
   "outputs": [
    {
     "data": {
      "text/html": [
       "<div>\n",
       "<style scoped>\n",
       "    .dataframe tbody tr th:only-of-type {\n",
       "        vertical-align: middle;\n",
       "    }\n",
       "\n",
       "    .dataframe tbody tr th {\n",
       "        vertical-align: top;\n",
       "    }\n",
       "\n",
       "    .dataframe thead th {\n",
       "        text-align: right;\n",
       "    }\n",
       "</style>\n",
       "<table border=\"1\" class=\"dataframe\">\n",
       "  <thead>\n",
       "    <tr style=\"text-align: right;\">\n",
       "      <th></th>\n",
       "      <th>Label</th>\n",
       "      <th>SMS</th>\n",
       "    </tr>\n",
       "  </thead>\n",
       "  <tbody>\n",
       "    <tr>\n",
       "      <th>1673</th>\n",
       "      <td>spam</td>\n",
       "      <td>urgent  we are trying to contact u  todays dra...</td>\n",
       "    </tr>\n",
       "    <tr>\n",
       "      <th>4369</th>\n",
       "      <td>ham</td>\n",
       "      <td>1 i don t have her number and 2 its gonna be a...</td>\n",
       "    </tr>\n",
       "    <tr>\n",
       "      <th>4540</th>\n",
       "      <td>ham</td>\n",
       "      <td>party s at my place at usf  no charge  but if ...</td>\n",
       "    </tr>\n",
       "    <tr>\n",
       "      <th>2996</th>\n",
       "      <td>ham</td>\n",
       "      <td>mm not entirely sure i understood that text bu...</td>\n",
       "    </tr>\n",
       "    <tr>\n",
       "      <th>1814</th>\n",
       "      <td>ham</td>\n",
       "      <td>yes we are chatting too</td>\n",
       "    </tr>\n",
       "  </tbody>\n",
       "</table>\n",
       "</div>"
      ],
      "text/plain": [
       "     Label                                                SMS\n",
       "1673  spam  urgent  we are trying to contact u  todays dra...\n",
       "4369   ham  1 i don t have her number and 2 its gonna be a...\n",
       "4540   ham  party s at my place at usf  no charge  but if ...\n",
       "2996   ham  mm not entirely sure i understood that text bu...\n",
       "1814   ham                           yes we are chatting too "
      ]
     },
     "execution_count": 15,
     "metadata": {},
     "output_type": "execute_result"
    }
   ],
   "source": [
    "train_data.head()"
   ]
  },
  {
   "cell_type": "code",
   "execution_count": 16,
   "id": "84736865",
   "metadata": {},
   "outputs": [],
   "source": [
    "train_data = train_data.reset_index(drop = True)"
   ]
  },
  {
   "cell_type": "code",
   "execution_count": 17,
   "id": "81ab8477",
   "metadata": {},
   "outputs": [],
   "source": [
    "test_data = test_data.reset_index(drop = True)\n"
   ]
  },
  {
   "cell_type": "markdown",
   "id": "53e11c96",
   "metadata": {},
   "source": [
    "Now we need to create a list with all the unique words in our training set."
   ]
  },
  {
   "cell_type": "code",
   "execution_count": 18,
   "id": "7ad95c42",
   "metadata": {},
   "outputs": [
    {
     "name": "stdout",
     "output_type": "stream",
     "text": [
      "0       [urgent, we, are, trying, to, contact, u, toda...\n",
      "1       [1, i, don, t, have, her, number, and, 2, its,...\n",
      "2       [party, s, at, my, place, at, usf, no, charge,...\n",
      "3       [mm, not, entirely, sure, i, understood, that,...\n",
      "4                           [yes, we, are, chatting, too]\n",
      "                              ...                        \n",
      "4452    [i, am, not, sure, about, night, menu, i, know...\n",
      "4453    [i, like, dis, sweater, fr, mango, but, no, mo...\n",
      "4454    [wife, how, she, knew, the, time, of, murder, ...\n",
      "4455    [thanx, u, darlin, im, cool, thanx, a, few, bd...\n",
      "4456    [yeah, there, s, quite, a, bit, left, i, ll, s...\n",
      "Name: SMS, Length: 4457, dtype: object\n"
     ]
    }
   ],
   "source": [
    "train_data['SMS'] = train_data['SMS'].str.split()\n",
    "print(train_data['SMS'])"
   ]
  },
  {
   "cell_type": "code",
   "execution_count": 19,
   "id": "e4f94853",
   "metadata": {},
   "outputs": [
    {
     "name": "stdout",
     "output_type": "stream",
     "text": [
      "{'upto', 'lobby', 'green', 'dictionary', 'nigeria', '2getha', 'beauty', 'chart', 'dangerous', 'lotto', 'cup', 'bbdeluxe', 'takin', 'xxxxx', 'radio', 'ipad', 'youre', 'tickets', 'panasonic', 'directors', 'ore', 'hearing', 'mad1', 'royal', 'trav', 'star', 'thrown', 'rayan', 'loo', 'everytime', 'winterstone', 'allowed', 'send', 'safe', '2wu', '09065394514', '2docd', '1205', 'tension', 'sips', 'browsin', 'clas', 'conference', 'nig', 'miracle', 'atlast', '000pes', '4403ldnw1a7rw18', 'mudyadhu', 'gn', 'wrnog', 'shakespeare', '4wrd', '09061104283', 'ps3', 'ringtone', 'necesity', 'amla', '89938', 'purchase', 'wud', 'wihtuot', 'lrg', 'lift', 'xuhui', 'cell', '1680', 'irritating', 'kerala', 'favourite', 'unni', 'ternal', 'you', 'lays', '85222', 'gei', 'wikipedia', 'dis', 'manky', 'hourish', 'compulsory', 'cool', 'ujhhhhhhh', 'jolly', 'teasing', '2rcv', 'appendix', 'avenue', 'pattern', 'bedreal', 'ticket', 'activate', 'off', 'bro', 'different', 'misbehaved', 'what', 'bought', 'chocolate', 'lacking', 'outsider', 'obey', 'axel', 'ahold', 'mite', 'efreefone', 'sweetie', 'pehle', 'splleing', 'mobileupd8', 'instituitions', 'dom', 'november', 'willing', 'thank', 'citizen', 'babyjontet', 'camry', 'our', 'kicks', 'english', 'mates', 'laundry', 'talkin', 'toa', 'hogidhe', '49', 'icmb3cktz8r7', 'namous', 'spoiled', 'elliot', 'infact', '08707509020', 'pathaya', 'service', 'max10mins', 'profit', 'suggestion', 'panic', 'admirer', 'subsequent', 'spoken', 'asked', 'bloo', 'spoons', 'company', 'age', 'sw7', 'ranjith', 'caught', 'heroes', 'sports', 'brolly', '6pm', 'biggest', 'nothing', 'informed', 'studio', 'nike', 'mundhe', 'grow', 'stuff42moro', 'fights', 'know', 'pixels', 'rip', 'sarasota', 'spelling', 'freaky', 'svc', 'cut', 'among', 'schedule', 'ar', 'junna', 'sense', 'bright', 'timing', 'icic', 'becomes', '18', 'poking', 'reassurance', 'aunty', 'bein', 'valid', 'muz', '250', 'interfued', 'throw', 'bcm1896wc1n3xx', 'nervous', 'welp', '12mths', 'firefox', 'blow', 'arguing', '09061221066', 'willpower', 'driver', '84199', 'pretty', '50ea', 'dobby', 'whom', 'tmrw', 'prizeawaiting', 'villa', 'chaps', 'amount', 'proove', 'laughed', 'adults', 'floating', 'care', '09058097189', 'themed', 'dear1', 'tomorrow', 'airtel', '09066358152', 'xafter', 'cheese', 'nitros', 'lark', 'fix', 'arranging', 'banneduk', 'usher', 'fat', 'easier', 'wifi', 'snd', 'dimension', 'wrong', 'inshah', 'ansr', 'splat', 'events', 'aburo', 'adventure', 'avoids', 'begin', 'chickened', '2mro', 'stands', 'empty', 'kidding', 'cuck', 'usb', 'message', 'pobox75ldns7', 'difficulties', 'lingerie', 'end', 'jamster', 'improve', 'symptoms', 'cu', 'de', 'photoshop', 'darlings', 'appt', 'milk', '4jx', 'dabbles', 'lie', '050703', 'resubbing', 'sub', '6031', 'prize', 'rd', 'jesus', 'el', 'meaning', 'legal', 'thankyou', 'natalie2k9', 'nw', 'xt', 'meeting', 'shortly', 'innings', '09058097218', 'lotr', 'music', 'secondary', 'flyng', '85023', '83332', '430', 'arrive', 'peach', 'temales', 'sound', 'lion', 'or2stoptxt', 'hold', 'sunoco', 'seriously', 'burden', '28thfeb', 'j', 'glo', 'purity', 'magical', 'dudette', 'begging', '07880867867', 'actual', '7250i', 'disk', 'advising', 'heads', 'email', '2wt', 'gauge', 'pierre', 'goodmorning', 'sathya', 'l', 'each', 'nurungu', 'w45wq', 'smith', 'academic', 'swan', 'summers', 'thangam', 'etlp', 'modl', '3', 'romantic', 'minmobsmorelkpobox177hp51fl', 'significance', 'joys', '09050005321', 'mtalk', 'forevr', 'algebra', 'ie', 'australia', 'kanji', 'james', 'madurai', 'embarassed', 'job', 'justbeen', 'cstore', 'includes', 'eerulli', 'frank', 'nydc', 'goldviking', 'mquiz', 'recognise', 'txtstop', 'perf', 'barcelona', 'lessons', 'wise', 'nokia6650', 'celebrate', '09061221061', 'dps', 'profiles', 'mcat', '0871277810810', 'mittelschmertz', '402', '09065174042', 'treasure', 'skyving', 'tones', '1hr', '02073162414', 'story', 'lily', 's', 'connection', 'rimac', 'sink', 'hand', 'piah', 'loveme', '2mrw', 'costumes', 'back', 'arrival', 'scrounge', 'breakfast', 'spin', '60p', 'fring', 'gauti', 'oil', '1yf', 'realise', 'eat', 'gal', 'prasanth', 'british', 'cant', 'assistance', 'tablets', 'funeral', '41782', 'parish', 'ji', 'accommodationvouchers', 'merememberin', 'chillaxin', 'or2optout', 'bang', '2waxsto', 'from', 'gower', 'here', '9307622', '8800', 'hit', 'intentions', 'box', 'dontmatter', 'ducking', 'details', 'lst', 'requests', 'batsman', 'apo', 'das', 'phony', 'thgt', 'sunshine', 'deals', 'ofsi', 'bollox', 'pouch', 'nickey', 'unsubscribe', 'largest', 'mins', 'dept', 'required', 'packs', 'deposited', 'sweet', 'cozy', 'conveying', 'bay', 'recycling', 'tis', 'modules', 'doc', 'waves', 'wee', 'ploughing', 'elaine', 'panicks', 'happening', 'friends', 'update_now', 'continent', 'uv', 'postcode', '1stchoice', 'channel', 'jacuzzi', 'exact', 'documents', 'attached', '4fil', 'watching', 'invaders', 'drugs', 'u4', 'exams', 'returned', 'woould', 'poet', 'ponnungale', '0845', 'adrink', 'gray', 'nigpun', 'lkpobox177hp51fl', 'gotany', 'ey', 'sux', 'just', 'trishul', 'juz', '150ppmpobox10183bhamb64xe', '08718711108', 'slippery', 'funky', 'lost', 'promises', 'chit', '07808247860', 'luxury', 'vegetables', 'outrageous', '4719', 'in2', 'dizzamn', 'sell', 'sucker', 'duffer', 'round', 'okey', 'girls', '6', 'transfered', '09050000301', 'boat', 'applying', 'gain', 'nic', 'adjustable', 'biz', 'experiment', 'nyt', 'non', 'faster', '83049', '4d', 'browse', 'have', 'datebox1282essexcm61xn', 'forwarded', 'text', 'poly', '08719899230', 'would', 'w', 'law', 'insurance', 'w8in', 'projects', 'cine', 'canname', 'lock', 'itz', 'annoyin', 'superior', '88066', '3650', 'shagged', 'ate', 'horse', 'jus', 'bimbo', 'msgrcvd18', 'contains', 'lov', 'pick', 'chinky', 'yuo', 'getting', 'canteen', 'cam', 'piece', 'stand', 'ú1', 'eight', 'record', 'cuddle', 'middle', 'fps', 'annoncement', 'infront', 'paperwork', 'pobox84', 'ajith', 'leaving', 'yan', 'raglan', 'dancing', 'aptitude', 'awesome', 'outage', 'answering', 'denying', 'kalainar', 'does', 'thirunelvali', 'statement', 'exposes', 'forwarding', 'nah', 'pen', '0578', 'fated', 'arguments', 'textcomp', 'poortiyagi', 'kegger', 'charge', 'connect', 'guaranteed', 'chapel', '50award', 'blog', 'admission', 'testing', 'slice', 'pours', 'line', 'geeee', 'acting', 'breaking', 'diff', 'recreation', 'walmart', 'kay', 'mtmsg', 'ayn', 'whose', '08712400603', 'credited', 'identification', '08715203652', 'find', 'ready', 'lager', 'brother', 'finishes', 'http', 'phoned', '09058094597', '600', 'ijust', 'barely', 'owns', 'becoz', 'rael', 'werebored', 'replace', 'shore', 'terry', 'ru', '1', 'tncs', 'rcd', '1lemon', 'transferred', 'trainners', '08701213186', 'silent', 'thesedays', 'hor', 'rate', 'woman', 'sip', 'sleeps', 'coco', 'ultimate', 'snatch', 'weight', 'wildlife', 'semiobscure', 'anand', 'practicing', '07801543489', 'ana', 'kr', 'points', 'linear', 'reach', 'tarot', '69866', 'facebook', 'ain', 'nattil', 'tht', 'virgin', 'bread', 'burrito', 'bishan', 'vilikkam', 'happened', 'unless', 'town', 'quit', 'spoilt', 'themob', 'greatly', 'mnths', 'sankatmochan', 'warranty', 'students', 'pocketbabe', 'concern', 'reassuring', 'pax', 'teeth', 'bless', 'misfits', '6ish', 'mei', 'teach', 'naughty', '000', 'oclock', 'ipaditan', 'guy', 'asssssholeeee', 'renting', 'w111wx', 'finishing', 'imposter', 'reserved', 'throwing', 'ignorant', 'jas', 'freaked', 'musta', 'goin', 'amnow', 'word', 'delete', 'beatings', '3100', 'monster', 'mina', 'differences', 'netflix', 'hidden', 'players', 'theres', 'hont', 'ruining', 'raiden', 'vikky', 'jocks', 'tiz', '08712402578', 'com1win150ppmx3age16', 'greatest', 'wasn', '087187262701', 'decide', 'ke', '4info', 'stocked', '09090900040', 'newscaster', '145', 'smokes', 'panren', 'peak', 'useless', 'tiwary', 'gbp4', 'taunton', 'iff', 'dogs', 'spacebucks', 'incorrect', 'movies', 'senrd', 'borrow', 'scotch', 'note', 'however', 'appreciated', 'sometime', 'either', 'residency', '09066368753', 'stealing', 'interested', 'understanding', 'mobilesdirect', 'buyer', 'jsut', 'formally', 'yourself', 'devils', 'breathe1', 'oyster', '4ward', 'pack', 'g696ga', 'condition', 'promoting', 'her', 'il', 'age16', 'soiree', 'didnt', 'careless', 'personality', 'postcard', '09094646899', 'hasn', 'bomb', 'lttrs', '12hours', 'country', 'festival', 'shoes', 'specific', 'created', '84122', 'detailed', 'missing', 'mother', 'laughs', 'sleeping', 'pairs', 'hostel', 'di', 'rooms', 'april', '07946746291', 'watched', 'awaiting', 'intrepid', 'responsibility', 'horo', 'fine', 'even', 'elvis', 'keralacircle', '09066361921', 'afternoons', 'got', '945', 'once', 'black', 'standing', 'deep', 'call', 'grooved', 'pei', 'every', 'followin', 'atm', 'boyfriend', 'membership', 'ag', 'fusion', 'oni', '400mins', 'texas', 'tsunamis', 'outta', 'rain', 'days', 'hurts', 'ahhhh', 'guilty', 'invest', 'facilities', 'maybe', 'maturity', '04', 'being', 'cliff', 'store', 'your', 'doesn', 'goodtime', 'angels', 'wat', 'wana', 'address', 'orange', 'fancied', 'entry41', 'dads', 'margin', 'run', 'causing', 'que', 'nigro', 'contention', 'internet', 'sales', 'tank', 'impatient', 'via', 'dancce', 'blind', 'rays', 'proof', 'box139', 'robinson', 'tight', 'flash', 'basketball', 'mouth', 'spl', 'could', 'sunlight', 'dearer', 'drivby', 'ard', 'bhaskar', 'sch', 'officially', 'slippers', 'bunch', 'draw', 'balance', 'dogwood', 'escalator', 'upgrade', 'snot', 'vettam', 'partner', 'scrumptious', 'parked', 'sochte', 'listen', 'truro', 'planned', 'yetunde', 'valuable', 'keen', 'premium', 'tolerat', 'tampa', '08002986030', 'it', 'eshxxxxxxxxxxx', 'wen', 'tul', 'falconerf', 'mean', 'home', 'fm', 'castor', 'unconditionally', 'world', 'sometme', 'away', 'reservations', 'underwear', 'smsing', '8ball', 'winning', 'continue', 'wrecked', 'hu', 'toilet', 'worc', 'math', 'somebody', 'years', 'screen', '2yrs', 'nurses', 'suply', 'dodgey', 'lanka', 'ridden', 'now1', 'most', 'lambu', 'floor', 'hw', 'building', 'spice', 'oveable', 'phb1', 'movietrivia', 'thirtyeight', 'adi', 'urself', 'ros', 'doing', 'nt', 'eg', 'total', 'burger', 'checked', 'garden', '09057039994', 'tron', 'bath', 'promotion', 'darren', 'setting', 'pleasure', 'purpose', 'soundtrack', 'med', 'getzed', 'vivek', 'aboutas', 'allah', '1pm', '09050090044', 'repent', '26', 'faglord', 'turns', 'anjie', 'marking', 'buddy', 'couple', 'din', 'probpop', 'hitter', 'poboxox36504w45wq', 'qjkgighjjgcbl', 'hiphop', '80182', 't', '09058094599', 'aww', 'mandara', '8am', 'pile', 'processed', 'mystery', 'ibn', 'both', 'gifted', 'ntt', 'sport', 'dry', 'eachother', 'handsomes', 'correction', 'anythingtomorrow', 'vry', 'jeri', 'predict', 'aeronautics', 'colleg', 'dramatic', 'walks', 'tattoos', 'roger', 'punch', 'armand', 'satanic', 'pussy', 'rates', 'major', '09066612661', 'swtheart', 'undrstndng', 'cheating', 'fulfil', 'owed', 'collect', 'fifa', 'yummy', 'vco', 'sis', 'phonebook', 'swatch', 'anythiing', '09066358361', 'dabooks', '40411', '6months', 'lonlines', 'common', 'that', 'tmr', 'rich', 'id', 'polo', 'wid', 'curtsey', 'theirs', 'buff', 'lodge', 'essential', 'decorating', 'joking', 'polyph', 'forgotten', 'shower', 'logos', '0789xxxxxxx', 'consent', 'squatting', 'flaked', 'compass', 'wipe', 'vatian', 'tuth', 'revision', 'mall', 'success', 'caps', 'feelin', 'cthen', '08712317606', 'program', 'map', 'organise', 'where', 'new', 'aretaking', 'minapn', '08081560665', 'turned', 'shouldn', 'beneficiary', 'only1more', 'rwm', '08450542832', 'arcade', 'nannys', 'n9dx', 'true18', 'daywith', 'regarding', '150ppm', 'dressed', 'machines', 'thot', 'judgemental', 'xmas', 'fwiw', 'dude', 'delayed', 'doll', 'lip', 'learn', 'affidavit', 'needle', 'conclusion', 'ones', 'inde', 'w14rg', 'tming', 'plum', 'ciao', 'meaningless', 'white', 'granted', 'two', 'zhong', 'mum', 'dvd', 'taxi', 'wondering', 'dump', 'gamb', 'ymca', 'speed', 'worried', 'snake', '9yt', 'description', 'cheat', 'hasbro', '4mths', 'redeemable', 'always', 'cock', 'maga', 'cause', 'untamed', 'application', '2watershd', 'attend', 'ldn', 'sc', 'companion', '3d', 'ws', '07808726822', '15541', 'miss', 'spose', 'getstop', 'window', 'txtin', 'was', 'urgnt', 'speeding', 'callertune', 'ceri', 'a30', 'voila', 'male', 'cuppa', 'cbe', 'beer', 'soo', 'understand', 'crazyin', 'deleted', 'boooo', 'myparents', 'nordstrom', 'ovarian', 'rejected', 'copied', 'holy', 'yarasu', 'hell', 'recd', 'snap', 'itcould', 'detroit', 'fees', 'vill', 'parts', 'youphone', 'twittering', 'stockport', 'tie', 'mahaveer', 'surely', 'simple', 'rentl', 'frwd', 'audition', 'tot', 'assessment', 'sends', 'sickness', 'recharge', 'push', '09066649731from', 'twat', 'posible', 'saying', '08718726978', 'watr', 'moon', 'mia', '09066660100', 'doinat', '09061790121', 'exhausted', 'euro2004', 'sk3', '10', 'miserable', 'sunday', 'srsly', 'whatever', 'song', 'search', 'xxxx', 'videochat', 'chikku', 'guesses', 'teaching', 'jump', 'frosty', 'weeks', 'compensation', 'calls1', 'half', 'dieting', 'greeting', '50rcvd', 'wrkin', 'manege', 'sol', 'arms', 'bognor', 'invnted', 'idew', 'tx', 'walk', 'records', 'tue', 'slip', 'emerging', 'frndsship', 'reaching', 'probably', 'everyones', 'prabha', 'ettans', 'velusamy', 'afternon', '07090298926', 'disc', 'bcmsfwc1n3xx', 'running', 'oyea', 'wire3', 'retired', 'reliant', 'increase', 'jokes', 'control', 'shite', 'heavily', 'shorter', 'privacy', '1st4terms', 'del', 'uni', 'available', 'wif', 'board', 'kalisidare', 'triple', 'fathima', 'forgiveness', 'wherevr', 'nutter', 'baaaaabe', 'stolen', 'spree', 'olympics', 'otbox', 'gentle', 'oranges', 'holiday', 'smiling', 'theatre', 'fb', 'sehwag', 'secrets', '2hrs', 'settled', 'drive', 'yards', 'will', 'thnx', 'uncle', 'sweetheart', 'himself', 'dependents', 'brilliant', 'pobox1', 'der', 'remind', 'tenerife', '087187272008', '09050002311', 'hasnt', 'alwys', 'puttin', 'nimya', 'ideal', 'pendent', 'vibrant', '81151', 'attention', 'oga', 'weekly', 'fa', 'landline', 'girlfrnd', 'unsold', 'brownies', 'bookedthe', 'honesty', 'arun', 'doit', 'amore', 'social', 'groovy', 'janinexx', 'listener', 'liked', 'univ', 'road', 'sw73ss', 'don', 'gotbabes', 'limping', 'dec', 'inch', 'quickly', 'boss', 'handset', 'jada', 'sae', 'daddy', 'freedom', 'txtstar', 'sh', 'honeybee', 'fals', 'accomodations', 'sleepingwith', 'nasty', 'cumin', 'kfc', '900', 'seemed', 'seen', 'ph', 'feed', 'reception', 'headache', 'thing', 'passes', 'abeg', 'convincing', 'splendid', 'feels', 'lyricalladie', 'arent', 'hanumanji', 'rodger', 'lnly', 'owe', 'bother', 'nalla', 'memories', 'tonights', 'situation', 'perhaps', 'carryin', 'sunscreen', 't4get2text', 'orig', 'geeeee', 'priscilla', 'unfortunately', 'peace', 'gosh', 'area', 'u2moro', 'lacs', 'bullshit', 'ntimate', 'santa', 'swear', '07753741225', 'thinkin', '0quit', 'gals', 'bucks', 'box334sk38ch', 'bpo', 'haf', 'figures', 'uploaded', 'cw25wx', 'taking', 'robs', 'wed', 'gives', 'straight', 'begun', 'womdarfull', 'subpoly', 'bluetooth', 'noon', 'sweatter', 'wan2', 'gin', 'fly', 'halla', 'cookies', 'buen', 'bcaz', 'weed', 'asp', 'american', 'ghodbandar', 'clark', 'purchases', 'leaf', 'i', 'soc', 'looking', 'mutai', 'kochi', 'fires', 'please', '08714342399', 'keris', 'ache', 'lines', 'cover', 'rounder', 'govt', 'marrge', 'mising', 'grab', 'suntec', 'receipts', 'amongst', 'raise', '09096102316', 'tex', '15', 'sentence', '4got', 'enketa', 'vital', 'stalk', 'hahaha', 'holder', 'horny', '09064017305', 'these', '515', 'mood', 'yogasana', 'dates', 'jordan', 'durham', 'want', 'dl', 'belligerent', 'tall', 'soup', 'fish', 'package', 'ppl', 'deny', 'print', 'wetherspoons', 'accordingly', 'axis', 'functions', 'tonight', 'approx', 'scenery', 'ffffffffff', 'unfolds', 'beggar', 'avoid', 'mmmmmm', 'waste', 'buy', 'bat', 'plan', 'tells', 'lasagna', 'psychologist', 'exhaust', 'prepare', 'canary', 'capacity', 'immunisation', '08709501522', 'see', 'timi', '100', 'going', 'shipped', 'nokia', 'anti', 'potter', 'century', 'lunchtime', 'nìte', 'youdoing', 'thet', '6230', 'charity', 'dhina', 'accenture', 'jurong', 'fujitsu', 'grins', 'bike', 'expressoffer', 'married', 'evng', 'lololo', 'jolt', 'blanked', 'solihull', 'edge', 'dusk', 'hail', 'nokia6600', '08719181503', 'extract', 'charming', 'lick', 'hopeing', 'fall', 'station', 'wherever', 'ak', 'rightly', 'brandy', '28', 'hole', 'wkg', 'toplay', 'loyalty', 'blessings', 'intention', 'bugis', 'absolutly', 'belovd', 'hates', 'mo', 'xxxxxxx', 'byatch', 'removed', 'gek1510', 'computer', '83600', 'redeemed', 'oooooh', 'apply', 'won', 'computers', 'messed', 'herself', 'rumour', 'ls15hb', 'sonyericsson', 'help08700621170150p', 'lido', 'admin', 'tulip', '9th', 'ecstacy', 'la3', 'rude', 'fed', 'pthis', '2mwen', 'borin', 'natalja', 'relationship', 'voucher', 'entered', 'seat', 'flung', 'sambar', 'm6', 'necessary', '88088', 'queen', 'likes', 'anyhow', '09066364589', 'p', '3gbp', 'connected', 'bstfrnd', 'gut', 'bloke', 'barolla', 'sunroof', 'liver', 'swashbuckling', 'handle', 'restrictions', 'someone', 'eviction', 'thesis', 'maid', 'enter', 'skilgme', 'shocking', 'baaaaaaaabe', 'although', 'stopsms', 'huh', '50perwksub', 'damn', '1172', 'memory', 'domain', '82242', 'wrk', 'gotta', 'information', 'paragraphs', 'put', 'pisces', 'stadium', 'incredible', 'few', 'bids', 'ed', 'scold', '50ppm', 'sugar', 'bothering', 'tues', 'wrote', 'alwa', 'starshine', 'qing', 'box385', 'tai', 'expert', '08712405022', 'signin', 'vitamin', 'wth', 'vava', 'fills', '85555', 'sells', '9pm', 'imprtant', 'mom', 'failed', 'lotsof', 'books', 'now', 'sms', 'center', 'geting', 'checkup', 'pert', 'vouchers', 'invention', 'cooped', 'refund', '49557', 'silently', 'faith', 'fortune', 'sister', 'unintentional', 'mufti', 'florida', 'sold', 'resubmit', 'w1a', '1120', '0825', 'beeen', 'brainy', 'dey', 'inst', 'tranquility', 'funk', '07815296484', '3510i', 'philosophy', 'august', 'nails', 'walkabout', 'truly', 'cook', 'os', 'meat', 'benefits', 'charles', 'filling', 'gdeve', 'insha', 'hip', 'looked', 'netcollex', 'laptop', '89555', 'released', 'oreo', 'fightng', '30s', 'free2day', 'ago', 'gamestar', 'babysit', 'claim', 'begins', 'responding', 'headin', 'batt', '97n7qp', 'digits', 'again', 'prashanthettan', 'tcr', 'mistakes', 'waliking', 'callback', 'everywhere', 'sane', 'already', 'tactless', 'mi', 'ppm', 'lovingly', 'julianaland', 'handed', 'oreos', 'add', '731', '200p', 'strict', 'burning', 'kent', '09061743811', '09061213237', 'splashmobile', '09065069154', 'room', 'drunk', 'organizer', 'wuldnt', 'sef', 'wotz', 'horrible', 'dancin', 'bergkamp', 'ringtones', 'custcare', 'arithmetic', 'impression', 'blame', 'course', '09061743386', 'zac', 'derp', 'pple', 'realised', 'epi', 'lt', 'knew', 'book', 'biro', 'addie', 'approaching', 'mwahs', 'customer', '2stop', '2c', 'stop', 'hundreds', 'amrita', 'vasai', 'mb', '1250', '0796xxxxxx', '09066380611', '54', 'fresh', 'saved', 'callin', '30ish', '200', 'buzzzz', 'dare', 'ive', 'pudunga', 'l8r', '63miles', 'scrappy', 'inclusive', 'tech', 'evrey', 'lot', 'heaven', 'yoga', 'makes', 'waz', 'geoenvironmental', 'spontaneously', 'chef', 'checkboxes', 'hero', '08715203685', 'wednesday', 'dream', 'through', 'fold', 'tait', '69969', 'cutter', 'dino', 'bbd', 'murderer', 'dual', 'province', 'fran', 'shinco', 'cali', '09065069120', 'replacing', 'hellogorgeous', 'ou', '07734396839', 'failing', 'punish', 'review', '50gbp', 'tomorro', 'mobcudb', 'witin', 'savamob', 'nhs', 'panties', 'sac', 'curious', 'jet', 'hee', 'flights', 'sigh', 'chastity', 'mandan', 'violated', 'dealer', 'maneesha', 'prob', 'shsex', 'study', 'mentioned', 'gpu', 'difference', 'pobox', 'thanksgiving', 'soft', 'data', 'frequently', 'sake', 'cashto', '8077', 'goodnite', 'utter', 'hides', 'omw', 'wont', 'paracetamol', 'shampain', 'norcorp', 'trusting', '09061743810', 'part', 'hands', 'albi', 'camera', 'thasa', '4eva', 'imp', 'loans', 'kills', 'programs', 'alaikkum', 'national', 'starve', 'specialise', 'jenne', 'skateboarding', 'necessarily', 'madoke', 'tayseer', 'secretly', 'honey', 'carefully', 'route', 'usual', 'milta', 'exchanged', 'nose', 'chat80155', 'mint', 'kitty', 'iouri', 'pa', 'zyada', 'voda', 'forced', 'adoring', 'andrews', 'improved', 'pause', 'enemy', 'tscs087147403231winawk', '1131', 'bani', 'edrunk', 'loooooool', 'arrange', 'meets', 'j89', 'gbp1', 'finance', 'avatar', 'sized', 'into', 'vale', 'ship', 'cr', 'vomiting', 'intelligent', 'reality', 'sang', 'crazy', 'sad', 'hes', 'yay', 'sherawat', 'rights', 'freely', '83738', 'twinks', 'temple', 'easiest', 'good', 'essay', 'bite', 'anyone', 'wenever', 'leanne', 'gays', 'pleasured', 'park', 'cha', 'seeking', 'bakrid', 'brum', 'dnt', 'experiencehttp', 'knocking', 'expect', 'harri', 'epsilon', 'z', 'sitter', 'magazine', 'bfore', 'fiting', 'voicemail', 'abuse', 'river', 'proper', 'food', 'undrstnd', 'jb', '0870241182716', 'forgets', 'cheesy', 'feet', 'dropped', 'occupied', 'alone', 'talent', 'transaction', 'whole', 'roast', 'wicket', '87239', 'resend', '08715203677', 'echo', 'akon', 'speedchat', 'click', 'concentrate', 'chennai', 'suits', 'carly', 'lookin', 'groovying', 'himso', 'canlove', 'reg', 'hype', 'upstairs', 'let', 'appropriate', 'cheer', 'child', 'fake', 'shit', 'public', 'awkward', 'hide', 'jetton', 'opt', 'resizing', 'cst', 'jabo', 'aunt', 'wind', 'ball', 'stil', 'wit', 'prices', 'vip', 'asap', 'ukp', 'lingo', '6th', 'restaurant', '08002988890', 'n8', 'ben', 'throat', 'melt', 'read', 'face', 'dick', 'hun', 'mountain', 'members', 'related', 'dats', 'salad', 'mth', '48922', 'bridge', 'smaller', 'providing', 'situations', 'lousy', 'cn', 'subs', 'cleaning', 'ashley', 'welcome', 'er', 'tooo', 'update', 'videos', 'disappointment', 'bowl', 'snoring', 'enjoying', 'dedicate', 'sparkling', 'quiz', 'seem', 'craziest', 'belly', 'comfey', 'flute', 'knw', 'si', 'lower', 'asshole', 'm26', 'lk', 'ages', 'why', 'amigos', 'league', '50s', 'masters', 'foreign', 'dorm', 'maangalyam', 'mojibiola', 'ouch', 'othrwise', '542', 'wasnt', 'aberdeen', 'permanent', 'witout', 'ld', 'islands', 'how', 'pc', 'rudi', 'settings', '42810', 'shop', 'ttyl', 'draws', 'mush', 'pending', 'kindly', 'docs', 'cashed', 'goodnoon', 'desperate', 'rice', 'puzzeles', 'cheque', 'mallika', 'used', 'preponed', 'slower', 'java', 'upping', 'blown', 'correct', 'dooms', 'al', 'figuring', 'weigh', 'coast', 'ne', 'depressed', 'ibhltd', 'sen', 'remove', 'wthout', 'lotta', 'nevr', 'evey', 'crisis', 'taylor', 'desparately', 'important', 'fun', 'bitching', '6wu', 'londn', '16', 'prince', 'prods', 'past', '09065394973', 'hopeu', 'helens', 'for', 'violence', 'countinlots', 'ultimatum', 'meal', 'elsewhere', 'entrepreneurs', 'wellda', 'drivin', 'senses', '087147123779am', 'apology', 'mirror', 'rtm', 'inconvenient', 'farting', '10k', 'heltini', 'salesman', 'pases', 'school', 'evn', 'mesages', 'barmed', '1000', 'alcohol', '4xx26', 'taj', 'swt', 'y', 'auction', 'hope', 'shexy', 'pobox12n146tf150p', 'air', 'system', 'nyc', 'gentleman', 'networks', 'hundred', 'glass', 'gloucesterroad', 'sterling', 'rajas', 'advance', 'assume', 'srt', '85233', 'nammanna', 'asks', 'limited', '08000930705', 'torrents', 'saeed', 'associate', 'dentists', 'licks', 'problematic', 'value', 'sky', '50pm', 'changing', 'overtime', 'brains', 'tooth', 'im', 'delivery', '09058094583', 'jen', 'lucy', 'wipro', 'lecture', 'gimme', 'sleepwell', 'heal', 'hm', 'daytime', 'education', 'favor', 'hogli', 'regretted', 'crickiting', 'ganesh', 'heavy', 'rob', 'nope', 'virgins', 'belive', 'method', 'graduated', 'inc', '88800', 'club', 'ko', 'crore', 'feng', 'anderson', 'percentages', 'bros', 'tkts', 'o2', 'sterm', 'idu', 'mobile', '09064011000', 'appreciate', 'balls', 'bhayandar', 'props', 'crossing', 'asking', '08001950382', 'bruce', 'definitly', 'forget', 'opponenter', '08719839835', '7684', 'wtf', 'shut', 'old', 'dinner', 'mango', 'chapter', 'callfreefone', 'beg', 'july', 'box245c2150pm', 'resume', 'compromised', 'bak', 'smashed', '09058094507', 'next', 'blokes', 'challenge', 'waking', 'opps', 'lose', 'f4q', 'looks', 'astoundingly', 'marry', 'truble', 'location', 'bigger', 'wot', 'omg', '2go', 'pest', 'makiing', 'loosing', '74355', 'dialling', 'errors', 'brdget', 'forgt', 'password', 'gist', 'soil', 'manchester', 'entey', 'caring', '08714712388', 'tons', 'venugopal', '08712400602450p', 'wrench', '08707500020', 'tok', 'adam', 'shldxxxx', 'host', '08448350055', 'ambrith', 'bears', '2morrow', 'owo', 'we', 'usmle', 'yr', 'nice', 'playng', 'towards', 'notixiquating', 'key', 'atrocious', 'pleasant', 'outfit', 'arise', 'embarrassed', 'drugdealer', 'gave', 'free', '300603', 'discount', 'bcums', 'itxt', 'called', '12', 'weakness', 'ac', '50p', 'karo', 'cereals', 'webpage', 'say', 'sandiago', 'becausethey', 'falls', 'cheyyamo', 'befor', 'office', 'kate', 'ramen', 'becaus', 'sufficient', 'sacked', '08002888812', 'x49', '3g', '89105', 'apparently', '09061749602', 'certainly', 'folks', 'incident', '1013', 'blimey', 'rest', '1405', 'surrounded', 'melnite', 'sts', '2gthr', 'sary', 'heehee', '08719180248', 'moment', 'bleak', 'bring', 'renewal', 'plz', '3pound', 'm95', 'kill', 'deliveredtomorrow', 'shirts', 'totally', 'order', 'janarige', 'right', 'agency', 'centre', 'reply', 'ee', 'ericson', 'aathi', 'knee', 'advise', 'get', 'mack', '2nhite', 'amk', 'textbuddy', 'weak', 'nightnight', 'woken', 'inviting', 'hop', '7ish', 'ken', 'shiny', 'wifes', 'thriller', 'format', 'pl', 'jealous', 'abiola', 'ideas', 'asda', 'infernal', 'veggie', 'reduce', 'peril', 'dunno', 'slept', 'vivekanand', 'goin2bed', 'whatsup', 'hl', 'credit', 'headset', 'cornwall', 'applebees', 'supervisor', 'thesmszone', 'realy', '373', 'particular', 'pee', '88888', 'colour', 'pants', 'caroline', 'contacts', 'early', 'verified', 'rto', 'nus', 'random', 'opportunity', 'rgds', '83383', 'out', 'mee', 'oz', 'mailbox', 'downloaded', 'tablet', 'clos1', 'happend', '7ws', 'fumbling', 'excellent', 'collapsed', 'career', 'nearly', 'matter', 'underdtand', 'beta', 'ceiling', 'wad', 'keep', 'slave', 'jackson', '18p', 'kit', 'lik', 'ending', 'more', 'tiring', 'hp', '1146', 'art', 'plus', 'rdy', 'bthere', '2309', 'teacher', 'destiny', 'psychiatrist', 'platt', 'somethin', 'servs', 'business', 'odalebeku', '3lp', 'burns', 'charts', 'creativity', 'spk', 'imma', '400', 'themes', 'worries', 'wnevr', 'hey', 'bills', 'count', 'partnership', 'wife', 'sq825', 'approve', 'inches', 'loud', 'finish', 'crashed', 'str8', 'sorta', 'mtmsgrcvd18', 'woke', 'subscription', 'answerin', 'bored', 'babes', 'genes', 'pics', 'engalnd', 'antibiotic', 'left', 'php', 'subtoitles', 'mode', 'drink', 'huge', 'giv', 'chances', 'practical', '1327', 'singles', 'moved', 'availa', 'danger', 'grief', 'ooh', 'wow', 'fixes', 'body', 'xin', 'hanging', 'mistake', 'l8tr', 'theater', '09064018838', 'long', '1million', 'dating', 'evone', 'expires', 'cuz', 'everything', 'cruel', 'parents', 'biatch', 'myself', 'sensible', 'lul', 'unbelievable', 'soladha', 'shijas', 'toll', 'flower', 'table', 'suppose', 'forfeit', 'morphine', 'trauma', 'mm', '24hrs', 'whn', 'bad', 'pharmacy', 'tihs', 'thnk', 'learned', 'neva', 'watch', '2marrow', '6hrs', 'birth', 'stagwood', 'waheeda', '330', 'sp', 'subscribers', 'deposit', 'serious', 'beloved', 'terms', 'woah', 'imat', 'newquay', 'ummifying', 'subscribe6gbp', '09', 'hesitation', 'pool', 'celeb', 'telugu', 'waheed', 'believe', 'balloon', '0089', 'mouse', 'tantrum', 'but', '08712402779', 'nosy', 'fml', 'iphone', 'harlem', 'delivered', 'error', 'further', 'behave', 'england', 'are', 'kid', 'dose', 'widelive', 'everyboy', 'without', 'truffles', 'battery', 'funs', 'sayin', 'swoop', 'topped', '9', '1da', 'whereare', 'hear', 'suckers', 'queries', 'gotten', 'somtimes', 'spelled', 'level', 'seeing', 'greetings', 'sppok', 'official', 'stores', 'cold', 'korli', 'walked', 'pieces', 'electricity', 'considering', 'goodies', 'thanx', '14tcr', 'dint', 'stressful', 'up', 'ms', 'net', 'batch', 'apt', 'previously', 'navigate', 'prepayment', 'kaitlyn', 'kappa', 'olol', 'dollars', 'met', 'x2', 'imposed', 'wuld', 'bar', 'photos', 'langport', 'church', 'means', 'news', 'faber', 'losing', 'ahmad', 'jogging', 'removal', 'silence', 'freefone', 'gaytextbuddy', 'convenience', 'internal', 'phyhcmk', 'mostly', 'antelope', 'mah', 'terrible', '09064019788', 'sony', 'them', 'ugadi', 'mc', 'macho', 'cooking', 'scool', 'court', 'ip', 'atlanta', 'gprs', 'bonus', 'yours', 'lolnice', 'stupid', 'amp', '09061701461', 'britney', 'kama', 'spell', 'cocksuckers', 'readiness', 'said', 'hurting', 'swimsuit', 'nevering', 'ignoring', 'habit', 'done', 'hme', 'network', 'walls', 'brisk', 'pete', 'wales', 'pm', 'dog', 'ma', 'taka', 'barry', '09065989182', 'gr8', 'pushes', 'tirupur', 'whos', 'durban', 'moseley', 'drinks', 'mornin', 'studying', '1225', 'prabu', '3ss', 'cnupdates', 'broth', 'look', 'clubsaisai', 'profile', 'scores', 'floppy', 'paces', 'sittin', 'marriage', 'luks', 'to', 'explicit', 'hugging', 'returning', '123', 'sometext', '06', 'guai', 'dreams', 'trust', 'passport', 'evrydy', 'pro', 'census', 'okmail', '800', 'pockets', 'library', 'visitor', 'asjesus', 'anywhere', 'ipads', 'offered', 'psp', 'lovers', 'serving', 'smiles', 'doctors', 'meh', '84025', 'fedex', 'quite', 'euro', 'rebtel', 'bcum', 'ali', 'sort', 'obedient', 'careful', 'athletic', 'invoices', 'ques', 'max', 'transport', 'action', 'abnormally', '09058094454', '08719181513', 'philosophical', 'thout', 'help08714742804', 'happily', 'std', 'tats', 'pt2', 'kalaachutaarama', 'boy', 'supports', 'oh', 'hospital', 'confirmed', 'go2sri', 'stress', 'usc', 'pulling', 'supreme', 'under', 'twice', 'sutra', 'stylish', 'yummmm', 'ahead', 'locations', 'normal', 'cry', 'tuesday', 'llc', 'honeymoon', 'wondarfull', 'punishment', '2006', 'notebook', '09056242159', 'african', 'form', 'fast', 'craving', 'blood', 'favorite', 'of', 'calm', 'suitemates', 'needa', 'weirdo', 'command', 'friend', '09058098002', 'ü', 'khelate', 'oops', 'talk', 'small', 'mini', '3xx', '08702840625', 'changed', 'tau', 'goto', 'stops', 'abbey', 'buddys', 'somewhat', 'gonnamissu', 'slacking', 'posh', 'medicine', 'latests', 'us', 'little', 'maaaan', 's89', 'infra', 'idk', '07xxxxxxxxx', 'tsandcs', 'gravel', 'washob', 'easy', 'buzz', 'thanku', 'roommates', '1winawk', 'lane', 'nottingham', 'remembrs', 'helping', 'ondu', 'acknowledgement', '3mins', 'rows', 'lush', 'granite', 'sheets', 'w1', 'finished', 'prometazine', 'daily', 'hugh', 'borderline', 'wondar', 'lord', 'recharged', 'powerful', 'coughing', 'problems', 'abusers', 'hos', 'bx', 'hook', 'conducts', 'he', 'cds', 'gbp', 'cmon', 'hollalater', 'denis', '89080', 'female', 'poor', 'meow', 'legitimat', 'neft', 'post', 'yunny', 'karnan', '10am', 'secured', 'up4', 'placed', 'dice', 'none', 'ink', 'tenants', 'coffee', 'others', 'divorce', 'started', 'wheel', 'hill', 'kind', 'loko', 'nights', 'fool', 'margaret', '2yr', 'prayrs', 'travel', '0', 'self', 'growing', 'less', 'sum1', '2geva', 'alternative', 'fainting', 'move', 'sometimes', 'ger', 'indyarocks', 'band', 'raed', 'vibrator', 'suprman', 'parking', 'jeans', 'breakin', 'askd', 'pray', 'elama', 'use', 'stage', 'cricket', 'dogging', 'natural', 'added', 'pounds', 'bf', 'require', '09071512432', '2years', 'exe', 'wn', 'psxtra', 'full', 'yck', 'causes', 'land', 'tirunelvali', 'breaker', 'pay', 'employer', 't91', 'dreamz', 'cherthala', 'deepak', '20p', 'wiskey', 'alter', 'wahay', 'gravity', '300p', 'rum', 'campus', 'kodthini', 'sorting', 'argentina', 'qatar', 'tour', 'iyo', 'spiral', 'idiot', '8883', 'repeat', 'studentfinancial', 'cannot', 'mind', 'dificult', 'billion', 'costa', 'cochin', 'frog', 'weddingfriend', 'sculpture', '08712460324', 'flippin', 'own', 'nite', 'afternoon', 'indian', 'money', 'airport', 'asa', '09058091854', 'hppnss', 'brin', 'multiply', 'hmmross', 'maat', 'pop', 'worms', 'coincidence', 'macs', 'lived', 'wil', '87575', 'quizclub', 'grownup', 'crashing', 'g', 'significant', 'hannaford', 'muht', 'original', 'qi', 'surprise', 'artists', '910', 'tick', 'cat', 'wanted', 'brain', 'randy', 'mecause', 'kettoda', 'schools', 'paper', 'mathews', 'drpd', '80062', 'roomate', 'mike', 'ring', 'strain', 'accommodation', 'portions', 'talks', 'reflex', 'stuffs', 'siva', 'posting', 'txt250', 'shot', 'feathery', 'ability', 'mummy', 'onwards', 'exam', 'mornings', 'shivratri', 'street', 'change', 'ldnw15h', 'naseeb', 'gynae', 'filthy', 'payment', 'grateful', 'nav', 'sex', 'week', 'yaxx', 'getiing', '140ppm', 'flowing', 'oja', 'losers', '29', 'box403', 'complaint', 'ladies', 'atural', 'liverpool', 'fans', 'copy', 'birthday', 'yeah', 'enters', 'bray', 'rite', 'gnun', 'confuses', 'multis', 'smarter', 'prepared', 'describe', 'acted', 'guessing', 'anythin', '09061790126', '47', 'lowes', '14', 'matched', 'arngd', 'followed', 'freemsg', 'jide', 'a', 'tendencies', 'diapers', 'halloween', 'soon', 'incomm', '9am', 'suddenly', 'bajarangabali', 'regular', 'tired', 'cancer', 'yer', 'bt', 'village', '69911', 'chk', 'future', 'february', 'jod', 'suganya', 'apologise', 'winds', '08002986906', 'massive', '88039', 'guide', 'showing', 'vijaykanth', 'shadow', '83110', 'pmt', 'do', 'addicted', 'xxxmobilemovieclub', 'phne', 'db', 'dock', 'faded', 'tlk', '09058095201', 'bedrm', 'tunji', 'presents', 'thousands', 'tcs', 'landing', '08452810071', 'alfie', 'holding', 'outfor', 'including', 'took', 'henry', 'disasters', 'remains', '2lands', 'heron', 'rings', 'litres', 'position', 'prescribed', 'passionate', 'cinema', 'nat', '0870753331018', 'anyway', 'charges', 'uttered', 'squeezed', 'discussed', 'un', 'housework', 'liking', 'northampton', 'worth', 'around', '121', 'last', 'pink', 'wesleys', 'gd', 'youwanna', 'waitin', 'frnds', 'pre', '4t', 'pobox114', 'sachin', 'sure', 'surname', 'lemme', 'box420', 'accidant', 'beers', 'archive', 'alot', 'nz', 'arul', 'drastic', 'hall', 'wtc', 'east', 'continued', 'isn', '92h', 'norm', 'worthless', '786', '09061743806', 'pizza', 'conform', 'sonathaya', 'logging', 'lesser', 'destination', 'swap', 'chrgd', 'deserve', '2nite', 'ystrday', 'website', '09061209465', 'countin', 'wats', 'subs16', 'big', '8552', 'cro1327', 'june', '86021', 'bao', 'kudi', 'involved', 'gets', 'features', 'erotic', 'bottom', 'suite342', 'sat', 'received', 'software', 'went', 'director', '120p', 'havent', 'costume', 'ctargg', 'booty', '526', 'ami', 'penny', 'season', 'mahal', 'freak', 'house', 'top', 'midnight', 'watevr', 'me', 'reallyneed', 'spjanuary', 'yahoo', 'kicchu', 'princes', 'enjoy', '630', 'confidence', 'morrow', 'aaniye', 'dial', 'decision', 'lool', 'restocked', 'roses', 'loss', 'checking', 'hopefully', 'history', 'beendropping', 'killed', '2ez', 'nalli', 'sd', 'wrld', 'weekends', 'report', 'physics', 'reached', 'cream', 'fingers', 'lucyxx', 'doggy', 'hari', 'loses', 'woodland', 'pears', 'bandages', 'strange', 'eighth', 'billy', 'pshew', 'cartons', 'oi', 'glory', 'matric', 'watchng', 'jokin', 'disconnected', 'built', 'become', 'stock', 'c', 'keypad', '30pm', 'brb', 'funny', 'weapon', 'algorithms', 'steyn', 'repairs', 'predicting', 'fetching', 'popped', 'point', 'hav', 'especially', 'unspoken', 'slap', 'involve', 'everyone', 'formatting', 'revealed', 'zed', 'horniest', 'tohar', 'battle', 'chill', '48', 'lionp', 'she', 'dub', 'confirm', '4882', 'price', '0207', 'set', 'upon', 'uhhhhrmm', 'sorry', 'cooperative', 'quarter', 'morn', 'grave', 'place', 'petrol', 'gudnite', '450ppw', 'specialisation', 'shitload', '150ppmsg', 'hon', 'spotty', 'doctor', 'callcost150ppmmobilesvary', 'properly', 'installation', 'taxt', 'mj', '2morow', 'grace', 'unknown', '11', 'mat', 'hungover', 'scorable', 'shattered', 'shahjahan', 'afterwards', 'xam', 'visit', 'dysentry', 'idea', 'sounds', '09077818151', 'hockey', 'dengra', 'cash', 'near', 'gsex', 'minute', 'talked', 'cartoon', 'dem', 'macedonia', 'toaday', 'basic', 'tensed', 'ibuprofens', 'young', 'pooja', 'cherish', 'machan', '81303', 'disturbing', 'speechless', 'cust', 'ended', 'person', 'successful', 'jazz', 'iam', 'conacted', 'broken', '08712400200', 'blessed', 'd', 'collages', 'entitled', 'zeros', 'vodka', 'ourbacks', '750', 'ba', 'smidgin', 'lou', 'decimal', 'passion', 'distract', 'so', 'way2sms', '114', '523', 'fret', 'ave', 'cr01327bt', 'thecd', 'maths', 'apologetic', 'poop', 'pilates', 'donyt', '946', 'spook', 'arty', 'europe', 'brand', 'hv', 'costs', 'call09050000327', '08718738001', 'ctla', 'lil', '08712103738', 'limiting', 'badly', '44345', 'tscs08714740323', 'uptown', 'mf', '09066362220', 'shipping', '89034', 'alian', 'boo', 'holla', 'clothes', 'stamps', 'gettin', 'bud', 'treadmill', 'twenty', 'polyphonic', 'marketing', 'chicken', 'gudnyt', 'submitted', 'bw', 'totes', 'ovulation', 'clocks', 'types', 'exp', 'sway', '84128', 'educational', 'sing', 'speling', 'tor', 'tocall', 'onum', 'hurry', 'uin', 'copies', 'include', 'problum', 'woozles', 'mp3', 'callers', 'networking', 'kittum', 'adore', 'yalru', 'every1', 'wks', 'alibi', 'index', 'xxxxxxxx', 'locks', 'touched', 'emigrated', 'shd', 'taught', 'between', 'date', 'remembr', 'hugs', 'frankie', 'wishes', 'selling', 'squishy', 'wedding', 'duvet', 'splash', 'downloads', 'justify', 'determined', 'banks', 'log', '22', 'tscs', 'withdraw', 'til', 'hrs', 'several', 'kaypoh', 'v', 'vehicle', 'colin', 'much', 'dd', '08701417012', 'porn', 'blackberry', 'minus', 'lotz', '4msgs', 'finn', 'isnt', 'sumthin', 'ors', 'john', 'onbus', 'clean', 'speciale', 'wudn', 'hehe', 'forever', 'cs', 'shuhui', 'filled', 'spares', 'doin', '2p', 'lapdancer', 'icon', 'down', 'nudist', 'plaza', 'grand', 'gay', 'billed', 'loverboy', 'dialogue', 'wknd', 'co', 'having', 'ibored', 'downstem', 'fidalfication', 'outgoing', 'answr', 'sipix', 'moan', 'family', 'cuddling', 'desparate', 'aproach', 'choosing', '300603t', 'ours', 'callcost', 'velly', 'tp', 'ls278bb', 'paris', 'woulda', 'datz', '5pm', 'dat', 'possession', 'enc', 'superb', '0871277810710p', 'otherwise', 'morning', 'smart', '08000407165', 'parantella', 'thurs', 'urgently', 'bangb', 'famamus', 'bash', 'cares', 'outbid', 'drinkin', 'honestly', 'any', 'ice', 'desires', 'pleased', 'bcoz', 'environment', 'nat27081980', 'n', 'phone', 'tgxxrz', 'cab', 'offers', '3qxj9', 'ex', 'synced', 'accidentally', '77', 'ing', 'deltomorrow', 'jon', 'stopbcm', '5k', 'correctly', 'ask', 'respectful', '5', 'leonardo', 'accident', 'contact', 'decided', 'ads', 'nan', 'smells', '220', 'swiss', 'hard', 'open', 'audrey', 'seekers', 'se', 'notes', '45', 'avin', 'payments', 'skillgame', '087123002209am', 'meant', 'edition', 'normally', '87121', 'dance', 'w1t1jy', 'foregate', 'cutting', 'identifier', 'thnq', 'qlynnbv', 'overdid', 'alertfrom', '08714714011', 'entire', 'bear', '3aj', 'mary', '9996', 'slob', 'finding', 'wherre', 'hava', 'needing', 'ofcourse', '1st', 'bcs', 'shake', 'msgrcvdhg', 'evenings', 'bam', 'dontignore', 'natalie', 'csc', 'drunkard', 'luvd', '118p', 'crowd', 'an', 'flurries', 'stop2', 'aiya', 'messages', 'stamped', 'completing', 'm263uz', 'yourinclusive', 'maximize', 'known', '310303', 'mmmmm', 'at', 'bx526', '01223585334', '14thmarch', 'receivea', 'minutes', 'performance', 'adress', 'behind', 'casting', 'loving', 'wisheds', 'expensive', 'camcorder', 'reveal', 'nonetheless', 'suite', '08712402050', 'far', 'immediately', 'sleep', 'dogg', 'hamper', 'nighters', 'blessing', 'positions', 'toclaim', 'ig11', 'cola', 'dwn', 'kiefer', 'malaria', 'stars', 'hypotheticalhuagauahahuagahyuhagga', 'rats', 'shant', 'sympathetic', 'itself', 'promo', 'karaoke', 'texd', '0871277810910p', 'reltnship', '80082', 'walking', 'prompts', 've', 'justfound', 'pulls', 'fact', 'difficult', 'rent', 'rem', 'tallahassee', 'pull', 'lovejen', '448712404000', 'carlie', '13', 'laugh', 'rummer', 'text82228', 'wk', 'wah', 'jo', '83338', 'umma', 'currently', 'spoke', 'moms', 'ew', 'clash', 'then', 'mix', 'peaceful', 'squeeeeeze', 'appear', 'ptbo', 'theoretically', 'reminds', 'steps', 'reasons', 'pole', 'sitting', '4u', 'slovely', 'opened', 'bday', 'texting', 'rajitha', 'test', 'fletcher', 'headstart', 'gardener', 'priority', 'evo', 'whore', '08704439680', 'training', 'msgs', 'converter', 'hallaq', 'display', 'saw', 'pictures', '62468', 'breeze', 'step', 'poorly', 'executive', 'andre', 'prakesh', 'howz', 'bangbabes', 'olage', 'shudvetold', '0844', 'exeter', 'macha', 'permissions', 'bet', 'tyler', 'coulda', 'snowboarding', 'understood', 'select', 'uses', 'module', '83021', 'selection', 'mrng', 'sooo', 'nbme', 'sophas', 'manage', 'dress', 'esaplanade', 'dvg', 'designation', 'bruv', '31', 'zebra', '2end', 'acc', 'parco', 'file', 'rolled', 'promise', 'switch', 'flies', 'flatter', 'swimming', 'prolly', 'hen', 'permission', 'sth', 'amused', 'exactly', 'stdtxtrate', 'chip', 'smacks', 'senthil', 'ned', '21', 'soz', 'somewheresomeone', 'spend', '850', 'killing', 'scared', 'owned', 'da', 'unkempt', 'atleast', 'mad2', 'tonite', 'abroad', 'intrude', 'weekdays', 'sry', 'kothi', 'paying', 'chinese', 'shhhhh', 'someplace', 'times', 'brilliantly', 'calicut', 'duo', '4txt', 'ad', 'fancy', 'eventually', 'mobilesvary', 'ipod', 'mnth', 'yes', 'netun', 'since', 'repair', 'wrks', 'courtroom', '08712404000', 'gurl', 'gong', 'children', 'forward', 'spoon', 'deduct', 'presence', 'parent', 'hate', 'bmw', 'tacos', 'double', 'figure', 'taxless', 'thekingshead', 'advisors', 'yelow', 'limit', 'blacko', 'mas', 'stewartsize', 'jaykwon', 'll', 'styles', 'sexual', '5000', 'competition', 'pleassssssseeeeee', 'unmits', 'ding', 'hdd', 'gap', 'bid', 'b', 'chad', 'people', '440', 'aight', '08707808226', 'kisi', 'knackered', 'impressed', 'comfort', 'burn', 'newest', '09061104276', 'korte', 'games', 'wants', 'hair', 'scary', '100percent', 'reward', 'fri', 'predictive', 'laying', 'apartment', 'transfred', 'help', 'semester', 'spageddies', 'wi', '03', 'shy', 'dled', '1030', 'fromm', '087104711148', 'model', '08718738002', '95', 'wc1n3xx', 'base', 'enjoyin', 'crucial', 'convince', 'shelves', 'provided', 'outl8r', 'uk', 'visa', 'despite', 'match', '700', 'uniform', 'tome', 'transfer', 'ful', 'true', 'chance', 'prepaid', 'lined', 'oli', 'flight', 'bringing', 'fault', 'winner', 'ctagg', 'secretary', 'keeps', 'messaged', 'driving', '674', 'coins', 'questions', 'smear', 'write', 'meive', 'mate', '0870', '087018728737', 'wined', 'mathematics', 'barbie', 'given', 'flag', 'pobox36504w45wq', 'vday', 'notice', 'speaking', 'havin', 'cld', 'stylist', 'algarve', 'deliver', 'replacement', 'chatlines', 'team', 'iq', 'various', 'activities', '4give', 'player', 'swat', 'strongly', 'toothpaste', 'inform', 'press', 'teresa', 'relax', 'gr8fun', 'source', 'fighting', 'gving', 'dave', 'mails', 'trouser', 'bag', '40mph', 'jia', 'later', 'hurt', 'response', 'yor', 'csbcm4235wc1n3xx', '09061701939', '139', 'card', 'bull', 'installing', 'solve', 'suffering', 'cutest', 'meaningful', 'ryan', 'explosive', 'bathing', 'dining', 'kb', 'extreme', 'whats', 'teams', 'bare', 'unconvinced', 'install', 'goggles', 'eightish', 'lady', 'knees', 'rubber', 'grown', 'childporn', 'impressively', 'pist', 'corrupt', 'carlos', 'missy', 'parkin', 'cappuccino', 'came', 'potato', 'anybody', 'upset', 'spending', '33', 'chain', 'warm', 'edhae', 'web2mobile', 'madstini', 'wkly', 'smartcall', 'gailxx', 'sathy', 'valued', 'shrub', '2exit', 'abta', 'heard', 'cttergg', 'ends', '79', 'gas', 'eye', 'phasing', 'romcapspam', 'sarcasm', 'weird', '2000', 'places', 'style', 'track', 'twins', 'arabian', 'ivatte', '08000839402', 'earning', 'sn', 'tyrone', 'trouble', 'reunion', '450p', 'jul', 'walkin', '08701237397', 'u', '08714712412', 'picsfree1', 'suffer', 'shangela', 'h', 'dryer', 'baller', 'sheet', 'bslvyl', 'comment', 'everyso', 'dismissial', 'nowadays', 'q', 'autocorrect', 'evaporated', 'diet', 'lives', 'mentor', 'whenever', 'lancaster', 'casing', '07781482378', 'wins', 'etc', 'chachi', 'gym', '69888nyt', 'never', 'portal', 'kanagu', 'roads', 'carlin', 'code', 'la1', 'loads', 'some', 'contented', 'misundrstud', 'questioned', 'forgive', 'resent', 'nitw', 'netvision', 'lips', 'tape', 'vl', 'version', 'whenevr', 'though', 'volcanoes', 'mail', 'crack', 'stories', 'cramps', 'fixedline', 'fell', 'ym', 'ugh', 'plenty', '07821230901', 'l8er', 'issues', 'multimedia', 'politicians', 'tomorw', 'character', 'login', 'catches', 'eggs', 'bit', 'soryda', 'ofice', 'shindig', 'les', 'thenampet', 'opinions', 'someday', 'threats', 'blur', 'picking', 'sight', 'noline', 'sura', 'mel', '08718726971', 'women', 'anot', 'yup', 'private', 'unrecognized', 'simulate', 'process', '0870141701216', 'ileave', 'joanna', 'hang', 'yoville', 'cosign', 'bck', 'hardly', 'urawinner', 'toledo', 'necklace', 'satsgettin', 'dt', 'tiempo', 'puzzles', 'pic', 'ibm', 'yar', 'todays', 'ran', 'attach', 'bambling', '4goten', 'craigslist', '4few', 'all', 'basically', 'freeentry', 'iron', 'offer', 'rg21', 'neck', 'or', 'account', 'pickle', 'ever', 'employee', 'arsenal', 'iter', 'vu', 'ingredients', 'tea', 'nap', 'captain', 'shirt', 'boring', 'sacrifice', 'chex', 'very', 'ritten', 'fifth', 'fluids', 'within', 'join', 'dhorte', 'operator', 'seven', 'bluetoothhdset', 'been', 'eastenders', 'jjc', 'door', 'leading', 'too', 'revealing', 'laurie', 'lvblefrnd', 'drops', 'bb', 'printed', 'specify', 'check', 'thin', 'ans', 'result', 'orc', '125', '80155', 'coach', 'boggy', 'cage', 'ffectionate', 'raining', 'keeping', 'bowls', 'anytime', 'token', 'giving', '81618', '2nd', 'jay', 'dbuk', 'bsn', 'steam', 'masteriastering', 'treated', '08709222922', 'aren', 'shortcode', 'jaklin', 'rock', 'yalrigu', 'frnt', 'island', 'cancel', 'congrats', 'beneath', 'same', 'grahmbell', 'finishd', 'republic', '08718723815', '545', '2004', 'sagamu', 'labor', 'rajini', 'scotland', 'subscribe', 'k52', 'grasp', 'gre', 'hearin', '100txt', 'award', 'x', 'allows', '83222', 'frmcloud', 'plumbers', 'brothers', 'missin', 'bedbut', 'men', 'atten', 'buffet', 'pobox334', 'c52', 'miles', 'appointment', 'prem', 'agidhane', 'previous', '42049', '00', 'scratches', '08700435505150p', 'buzy', 'hunt', 'unique', 'gary', 'ringing', '87077', 'actually', 'salon', 'ultimately', 'minmobsmore', 'about', 'prin', 'requirements', 'uncountable', 'ringtoneking', 'postponed', 'stretch', 'letter', 'glad', 'combine', 'sportsx', 'adsense', 'wkend', 'batchlor', 'asusual', 'progress', 'dined', 'strong', 'hui', 'wer', 'rugby', 'tops', 'terrific', 'gastroenteritis', 'r', 'personally', 'vaguely', 'sic', 'babe', 'slots', '1apple', 'ruin', 'imin', 'avenge', 'sensitive', 'vote', 'simpler', 'maniac', 'cops', 'unlimited', 'fone', 'troubleshooting', 'annoying', 'property', 'surprised', 'escape', 'blankets', 'yaxxx', 'hep', 'jones', 'hits', 'ip4', 'uawake', 'exorcist', '69855', 'representative', 'vargu', 'tackle', 'bone', 'categories', 'wan', 'brainless', 'earn', '09099726553', 'sudn', 'skins', 'lab', 'dr', 'houseful', 'slp', 'ny', 'drizzling', 'closeby', 'dload', 'possible', 'viva', 'e14', 'complaining', 'gautham', 'page', 'cave', 'yoyyooo', 'buttheres', 'rahul', 'hunks', 'selfindependence', '09071517866', 'predicte', 'numbers', 'flavour', 'peripherals', 'storming', '930', 'furniture', 'china', 'chillin', 'cars', 'sooooo', 'snowball', 'gymnastics', 'corect', 'alive', 'o', 'cost', 'sorrow', 'urgran', '08712466669', 'shelf', 'luv', 'dict', 'crave', 'swing', '5p', 'reache', 'lodging', 'cute', 'argh', 'chess', 'ham', 'question', 'dessert', 'characters', 'praps', 'freaking', 'huai', 'king', 'flim', 'break', 'calculated', 'secure', 'complexities', 'texts', 'thanks2', 'hectic', 'smsrewards', 'urgent', 'prescripiton', 'bubbletext', 'dying', 'bundle', 'haventcn', 'sweater', 'missunderstding', '09064012160', 'glasgow', 'versus', 'dislikes', 'classic', 'drop', 'attempt', 'ias', 'interviews', '326', 'engaged', 'attended', 'rgent', 'gram', 'delicious', 'bennys', 'hogolo', 'pretend', 'services', '08448714184', 'term', '0808', 'grr', '5we', 'fantastic', 'tell', 'anjola', 'minmoremobsemspobox45po139wa', 'vague', 'make', 'main', 'poker', 'leh', 'receive', 'samus', 'fried', 'comes', 'phrase', 'shijutta', '008704050406', 'nxt', 'realising', 'rebel', 'friendships', 'bell', 'busy', 'gone', '2find', 'eve', 'waited', 'vewy', 'impede', 'happier', 'hardcore', 'purse', 'fucking', 'shracomorsglsuplt', 'tones2u', 'fne', 'agents', 'lipo', 'absence', 'weekend', 'chic', 'today', 'chinnu', 'may', 'nusstu', 'police', 'zealand', 'girl', 'firmware', 'twelve', 'endowed', 'whether', 'colany', 'yesterday', 'twilight', 'cheered', 'entertaining', 'swell', 'percent', 'typical', 'workage', 'auto', 'completes', 'delay', 'pod', 'when', 'imagination', 'egbon', 'weasels', 'html', 'crying', 'protect', 'london', 'screaming', 's3xy', 'diamond', 'toking', 'cud', '434', 'innocent', 'lonely', 'hittng', 'returns', 'shock', 'massages', 'foward', 'entry', 'score', 'zouk', 'putting', 'broadband', 'soul', 'hopeful', 'landlines', 'teaches', 'wave', 'lv', 'housewives', 'making', 'referin', 'waaaat', 'juswoke', 'mw', 'fuckinnice', 'during', 'lands', 'extra', 'adventuring', 'onto', 'chatter', 'oblisingately', 'save', 'laxinorficated', 'teachers', 'parchi', 'tat', 'videophones', 'monkey', 'mfl', '8', 'link', 'bailiff', 'passwords', 'ordered', 'ugo', 'establish', 'neo69', '83118', '4utxt', '30pp', 'sayy', 'ten', 'awake', 'offline', 'tightly', 'longer', 'nething', 'madodu', 'painting', '500', '6669', 'doke', 'owl', 'time', 'missed', 'goals', 'fifty', 'december', 'sir', 'mental', '09095350301', 'songs', 'shah', 'sun', 'maps', 'name2', 'anonymous', 'choice', 'lux', 'idc', 'thy', 'aids', 'decent', '350', 'celebration', 'urfeeling', 'millers', 'wisdom', 'fonin', 'wanna', 'elaborate', 'sundayish', 'vs', 'gucci', 'stopcost', 'telling', 'shortage', 'latelyxxx', 'invite', 'particularly', 'attraction', 'mths', 'anything', 'telly', 'musthu', 'ola', 'tb', 'bcm', 'avble', 'shrek', '6times', '447801259231', 'kisses', 'staring', 'bed', 'generally', 'ralphs', 'cuddled', 'slo', 'mokka', 'love', 'edward', 'worst', 'the4th', 'neighbor', 'abdomen', 'challenging', 'hearts', 'askin', 'nimbomsons', 'nooooooo', 'taste', 'xy', 'tuition', 'lyk', 'noooooooo', 'research', 'meet', 'shortbreaks', 'indians', 'bowa', 'ayo', 'diesel', 'terminated', 'wallpaper', 'contacted', 'aah', '2day', 'inclu', 'detail', 'tiny', 'dime', 'ish', 'gayle', 'bold2', 'toshiba', 'boston', 'technical', 'flip', 'nanny', 'neway', 'doors', 'crammed', 'couldn', 'm221bp', 'ok', 'edu', 'rewarding', 'safely', 'motive', '11mths', 'jstfrnd', 'dontplease', 'rhode', 'gari', 'ibh', 'sf', 'jontin', 'dot', 'kaiez', 'happiest', 'spreadsheet', 'westshore', 'err', 'wavering', 'afraid', 'sim', 'aiyo', 'polys', 'dinero', 'smoking', 'mono', 'eating', '2morro', 'journey', 'croydon', 'months', 'tms', 'healer', 'pence', 'clock', 'thx', '08718730666', 'am', 'function', 'lifeis', 'treacle', 'is', 'applausestore', 'option', 'mac', 'leg', 'keluviri', 'bc', '7oz', 'wings', 'com1win150ppmx3age16subscription', 'want2come', 'sun0819', 'recession', 'in', '08715203656', '3miles', 'desert', 'investigate', 'nature', 'india', 'animation', 'survey', 'gonna', '41685', 'successfully', 'pos', 'pavanaputra', 'abi', '4', 'stays', 'pubs', 'confirmd', 'pages', 'played', '09041940223', 'happenin', 'chuckin', 'landlineonly', 'trivia', '150p', 'snappy', 'takecare', 'kodstini', 'sending', '9061100010', 'kotees', 'definite', 'fr', 'baby', 'cheap', 'lazy', 'sexychat', 'looovvve', 'stereo', 'boye', 'donno', 'ure', 'caveboy', 'contract', '7548', 'hut', 'wonders', 'edison', 'support', 'temper', 'loyal', 'hotel', 'ishtamayoo', 'patty', 'kl341', '81010', 'north', 'often', 'staff', 'affection', 'wamma', 'alert', 'burial', 'sib', 'rose', 'everybody', 'oru', 'mumtaz', 'ge', '80878', 'registration', '08000776320', '61610', '177', 'tobacco', 'creepy', 'ooooooh', 'starts', 'ovr', 'another', 'second', 'kaaj', 'choose', 'dad', 'postal', 'hills', '1x150p', 'potential', 'dubsack', 'aries', '07046744435', 'url', 'dont', 'feb', 'custom', 'gt', 'blu', 'group', 'issue', 'myspace', 'exmpel', 'online', 'independence', 'reasonable', 'cd', 'wonder', 'liao', 'playing', '85069', 'strips', 'mk17', 'range', 'chloe', 'fucks', 'wun', 'restrict', 'amrca', 'nri', '09099725823', 'dent', 'consensus', 'ldew', 'warned', 'rstm', 'didn', 'answer', 'says', 'fucked', 'aletter', 'hmv', 'excuse', 'railway', 'gigolo', 'slightly', 'ha', 'oath', 'needed', 'box95qu', 'famous', 'heart', 'eerie', 'popcorn', 'inspection', 'call2optout', 'usually', 'cafe', '1843', 'oredi', '08702490080', 'surya', 'final', 'cake', 'priest', 'brats', 'espe', 'sighs', 'seems', 'risk', 'darling', 'newspapers', '08712402972', 'bbq', 'kip', 'outs', 'tears', '1thing', 'lunch', '80', 'fantasies', 'tessy', 'ni8', 'sem', 'christmas', 'files', 'wouldn', 'lifetime', 'bank', '21870000', 'spain', '195', 'maretare', 'lovely', '6hl', 'cousin', 'punj', 'develop', '62735', '5ish', 'enufcredeit', 'showered', 'magic', 'chez', 'felt', 'comprehensive', 'addamsfa', 'hamster', 'dorothy', 'lit', 'suggestions', 'rowdy', 'minor', '09058094565', 'thoughts', 'global', 'ghost', 'wright', 'howard', 'intha', 'harry', 'dresser', 'jelly', 'stu', 'nobbing', 'basq', 'night', 'cudnt', '4a', 'japanese', 'loose', 'strings', 'symbol', 'converted', 'angry', 'affair', 'row', 'sugardad', 'dosomething', 'shared', 'lf56', 'million', '86888', 'enough', 'temp', 'olave', 'customers', 'hows', '9ae', 'roommate', 'gaps', 'cheers', 'theory', 'mys', 'beauties', 'wt', 'ride', 'dang', 'haunt', 'lionm', '09066364349', 'letters', 'toot', 'evry', '078', 'juan', 'such', 'financial', 'jersey', 'dependable', 'thanks', 'passed', 'camp', 'hubby', 'deciding', 'dramastorm', 'memorable', 'boytoy', 'ogunrinde', 'accordin', '08000938767', 'spanish', 'tmorow', 'high', '09111032124', 'papers', 'jeremiah', 'living', 'flew', 'melody', 'didntgive', 'wo', 'salam', 'relieved', '0121', 'their', 'franxx', 'yun', 'personal', 'w1jhl', 'adult', 'sweets', 'name', 'laready', 'plyr', 'cardin', 'brothas', 'jack', 'downs', 'silver', 'rt', 'answers', 'earth', 'block', 'dentist', 'overheating', 'hlp', 'naked', 'based', 'strip', 'nino', 'workin', 'd3wv', 'prof', 'feeling', '8p', 'astne', 'bitch', 'cheaper', 'train', 'tongued', 'device', 'excused', 'gravy', 'operate', 'opposite', 'leave', 'sam', 'fudge', 'guides', 'satthen', 'bawling', 'nuclear', 'scoring', 'interview', 'stapati', 'torch', 'cleared', 'direct', 'yo', 'lighters', 'aeroplane', 'onion', '36504', 'go', 'wicklow', 'ya', 'pound', 'huiming', 'o2fwd', '61200', 'hg', 'wkent', 'randomly', 'inside', 'promptly', 'th', 'ppt150x3', 'cantdo', 'bian', 'mileage', 'tortilla', 'weiyi', 'video', 'remember', 'announced', 'sore', 'app', 'spring', 'alex', 'hottest', 'logged', 'matches', 'excited', 'attracts', 'pg', '69696', 'arrived', 'hour', 'taken', 'iscoming', 'dhoni', 'haven', 'sexy', 'concert', '87066', 'announcement', 'imf', 'devouring', 'forum', 'gumby', 'father', 'retrieve', 'dreading', 'luck', 'gently', 'topic', 'neshanth', 'market', 'before', 'lounge', 'presleys', 'aka', 'pix', 'expecting', 'shame', 'cm', 'abt', 'txting', 'shopping', 'babies', 'pig', 'showed', 'shoving', 'wasted', 'selfish', 'doubt', 'tog', 'dsn', 'fan', 'msging', 'runs', 'opener', 'pose', 'age23', 'explain', 'esplanade', 'catch', '47per', 'mtmsg18', 'homeowners', 'lovable', 'lei', 'arm', 'princess', 'sian', 'pin', 'forgiven', 'fuckin', 'spider', '1450', 'opted', 'webadres', 'kvb', 'jst', 'spinout', 'contribute', 'readers', 'moments', 'height', 'tease', '02', 'respond', 'clarify', 'matrix3', 'thou', 'alright', '5digital', 'cedar', 'division', 'ranju', 'ashwini', '3680', 'follows', 'listn', 'wait', 'windows', 'healthy', 'fair', 'cc', 'csh11', 'fren', 'thread', 'k', 'tookplace', 'likely', 'ki', 'endless', 'outstanding', 'sucks', '530', 'birthdate', 'wedlunch', 'rupaul', '21st', 'spun', 'tones2you', '2003', 'bluray', '25', 'lautech', 'riddance', 'wld', 'community', 'class', 'boys', 'packing', 'celebrations', 'trained', 'quoting', 'jess', 'skyped', 'probthat', 'sitll', 'until', 'info', 'come', 'sliding', 'hesitant', '150pm', 'after', 'snow', '9t', 'innu', 'surgical', 'has', 'bellearlier', 'stomps', 'series', 'sent', 'amy', 'lag', 'beside', 'txts', 'great', 'tobed', '1000s', 'win', 'follow', '42478', 'goodnight', 'mag', 'butting', 'lists', 'miwa', 'needs', 'jaz', 'weirdy', 'specs', 'shows', 'lol', 'period', 'hotels', 'm8', 'mahfuuz', 'minimum', 'graphics', 'cer', 'simonwatson5120', 'texted', 'proverb', 'comb', 'other', 'gold', 'siguviri', 'itna', '4thnov', 'touch', 'experience', 'leo', 'outsomewhere', 'bags', 'return', 'status', 'hi', 'starring', 'single', 'hmm', 'truth', 'server', 'were', 'across', 'gift', 'dippeditinadew', 'hesitate', 'jd', 'fever', 'gent', 'yupz', 'deus', 'voice', 'vary', 'salmon', 'bloody', 'classes', 'le', 'bout', '80122300p', 'dai', 'hex', 'fancies', '09061702893', 'accumulation', 'sisters', 'downon', 'aroundn', 'illness', '150', 'party', 'wml', '83370', 'unemployed', 'try', 'lar', 'user', 'complimentary', 'wall', 'discreet', '24', '2007', '09099726481', '80160', 'film', 'reboot', 'practising', 'student', 'picture', 'cutie', 'broad', 'cupboard', 'space', 'leona', 'trial', 'spiritual', 'babysitting', 'thats', 'fiend', 'prayers', 'actin', 'refilled', 'rs', '50perweeksub', 'wrenching', 'wicked', '09111030116', 'belongs', 'puts', 'perfect', 'showrooms', 'iknow', 'satisfy', 'tagged', 'shakara', 'mmmmmmm', 'moji', 'settle', 'finest', 'knowing', 'fgkslpo', 'helps', 'abj', 'shes', 'quiteamuzing', 'supposed', '69988', 'gokila', 'dumb', '75max', 'booking', 'mine', 'savings', 'prix', 'sup', 'lifting', 'coz', 'meg', 'lmao', 'treats', 'starting', 'persons', '151', 'gr8prizes', 'frying', 'christ', 'bilo', '2u', 'thm', 'hmph', 'collected', 'except', 'rcb', '08719181259', 'pocked', 'apes', 'textbook', 'gossip', 'turn', 'rhythm', '32000', 'wet', 'unsub', 'tlp', 'petey', 'earlier', 'reverse', 'increments', 'rents', 'evr', 'failure', 'maruti', 'cared', 'this', 'stairs', 'which', 'radiator', 'okie', 'somerset', 'films', 'buffy', 'thursday', '08081263000', 'humanities', 'gandhipuram', '150p16', 'fave', 'dull', 'nos', '89545', 'weds', 'thinl', '078498', 'vijay', 'garments', 'hot', 'calld', 'well', 'arng', 'linerental', '08717898035', 'usf', 'konw', 'pimples', 'professors', '820554ad0a1705572711', 'department', 'dun', 'recognises', 'emailed', 'able', 'scammers', 'ec2a', 'jenxxx', '650', 'wiv', 'kept', 'smile', 'walsall', 'thinking', 'named', '08701752560', 'eek', 'waht', 'irritated', 'works', '08700469649', 'housing', 'bevies', 'tactful', 'against', 'bathroom', 'meetin', 'minuts', 'kusruthi', 'apologize', 'ese', 'chief', '08717507382', 'bec', 'blanket', '08718720201', 'indeed', 'uh', 'shall', 'ihave', 'than', 'chores', 'goal', 'cttargg', 'instantly', 'hr', 'raviyog', '2u2', 'medical', 'settling', '09058094455', 'tonght', 'cheek', 'slow', 'dear', 'everyday', 'scouse', 'cm2', 'september', '0906346330', 'tests', 'dead', 'list', 'almost', 'ambitious', 'fizz', 'entirely', 'cardiff', 'oncall', '38', 'optin', 'implications', 'haircut', 'plate', 'dealing', '____', 'odi', 'year', 'ummmmmaah', 'lesson', 'tear', 'cc100p', 'sariyag', 'ahhh', 'quality', 'faggot', 'pounded', '40', 'sign', 'some1', '09061701444', 'tnc', 'useful', 'venaam', 'enuff', 'invited', 'prefer', 'pookie', 'isaiah', 'developer', 'sweetest', 'invitation', 'acnt', 'bot', 'college', 'weaknesses', 'per', 'praises', 'day', 'stressed', '09061744553', 'fight', 'confused', 'amma', 'be', 'changes', 'systems', 'opposed', 'ikea', 'suffers', 'hack', 'mon', 'enna', '1000call', 'lucky', 'gua', 'download', 'consider', 'apps', 'tahan', 'xclusive', 'youuuuu', '65', 'tasts', 'mymoby', 'oblivious', '2667', '08718738034', 'goodo', 'xx', 'soooo', 'm', 'replying', 'jewelry', 'cultures', '28th', 'tomarrow', 'sept', 'alerts', '300', 'finally', 'awarded', 'travelling', 'crab', 'hooch', 'above', 'surfing', 'await', 'wahala', 'pie', 'saturday', 'sez', 'xxxxxxxxxxxxxx', 'truck', 'skye', 'kano', 'vid', 'steak', 'stubborn', 'bathe', '3optical', 'nursery', 'childrens', '0871750', 'flood', 'maintaining', 'paypal', 'payoh', 'declare', 'mobno', 'problem', 'shesil', 'sorted', 'scratching', 'friendsare', 'nver', 'dungerees', 'share', 'noncomittal', 'hence', 'syrup', 'bottle', 'ironing', 'constant', 'monkeys', 'neglect', 'orh', '0776xxxxxxx', 'cloud', 'ho', 'sleepin', 'checkin', 'padhe', '83039', 'avo', 'biola', 'proze', 'hoops', 'ass', 'fails', 'okors', 'sunny', 'ammo', 'six', 'phews', 'claire', 'blowing', 'earliest', 'university', 'possibility', 'shifad', 'comingdown', 'barrel', 'num', 'dignity', 'rinu', 'forgot', 'smsco', 'gud', 'lac', 'appy', 'pretsovru', 'waqt', 'least', 'following', 'tee', 'suzy', 'forth', 'tt', 'happens', 'clever', 'hitman', 'impossible', 'lambda', 'that2worzels', 'gyno', 'eyed', 'fassyole', 'mila', 'motorola', 'brown', 'thepub', 'jobs', 'overemphasise', 'supose', 'misss', 'inconvenience', '07742676969', 'scotsman', 'dhanush', 'brief', 'city', 'convey', 'decisions', 'least5times', 'diwali', 'aid', 'squid', 'sankranti', 'prospects', '09050001808', 'varaya', 'freephone', 'optimistic', 'singing', 'smell', 'mention', 'mad', 'like', 'ente', 'bill', 'dan', 'wear', 'norm150p', 'rebooting', 'clue', '86688', 'gage', 'due', 'request', 'lect', 'vodafone', 'str', '30', 'stifled', 'reminded', 'noisy', 'somone', '250k', '08715203028', 'ecstasy', 'r836', 'busty', 'lately', '1winaweek', '0721072', 'rather', 'tough', 'manda', 'wonderful', 'legs', 'freezing', 'flaky', 'jade', 'ntwk', 'welcomes', 'things', 'sofa', '5th', 'slide', 'hv9d', 'erupt', 'talents', 'regards', 'facts', 'payback', 'budget', 'access', 'planettalkinstant', 'makin', 'nit', 'propose', 'take', 'title', 'keys', 'mr', 'cos', 'fink', 'eta', '1mega', 'mayb', 'water', 'content', 'popping', 'menu', 'boatin', 'friday', 'game', 'worry', 'colourful', 'pobox365o4w45wq', 'thatmum', 'fourth', 'defeat', '2', 'rush', 'alrite', 'friendship', 'hoped', 'gnt', 'okden', 'remb', 'jiu', 'vat', 'satisfied', 'science', 'fraction', 'hungry', 'color', 'loves', 'polyh', 'gaze', 'smth', 'ffffuuuuuuu', 'belong', 'lage', 'openin', 'obviously', 'tonsolitusaswell', 'live', 'nagar', 'yowifes', '2b', 'garage', 'bunkers', 'rodds1', 'narcotics', 'den', 'problms', 'slices', 'emergency', 'fit', '30apr', 'listening', 'holby', 'drms', 'posted', '9755', 'fieldof', 'attending', '82468', 'nobody', 'ctter', '150ppermesssubscription', 'ramaduth', '10ppm', 'telephone', '09099726429', 'verifying', 'reading', 'genus', 'cricketer', 'drinking', 'weddin', 'joker', 'textoperator', '09050000332', 'bulbs', 'havnt', 'replies', 'anyways', 'petticoatdreams', 'hhahhaahahah', 'working', 'dha', 'upgrdcentre', 'btw', 'virgil', 'dena', 'bus', 'sum', '165', 'nahi', 'iz', '08704050406', '08718726270', 'teenager', 'nag', '4th', 'rub', 'spent', 'unconscious', 'turning', 'yeh', 'rushing', 'ear', 'outside', 'supply', 'cancelled', 'talking', 'obese', 'guys', 'head', 'cloth', 'raised', 'wc1n', 'aft', '8714714', 'chest', 'amazing', 'kinda', 'frens', 'mapquest', 'colleagues', 'nauseous', '4get', 'carolina', 'hols', 'farm', 'sptv', 'vomit', 'president', 'box42wr29c', 'mega', 'screamed', 'matured', 'dehydration', 'broke', 'mus', 'sg', 'iccha', 'tui', '7250', 'liquor', 'opening', 'rct', '4qf2', '07786200117', 'sue', 'scraped', 'victoria', 'iwana', 'hustle', 'boost', 'fantasy', 'recent', '88877', 'aldrine', 'matra', 'derek', 'wadebridge', '08718727870', 'bristol', 'adp', '20', 'asleep', 'ela', 'wish', 'might', 'easter', 'ammae', 'distance', 'suggest', 'urgh', 'bob', 'playin', 'indicate', 'masked', 'moving', 'rcv', 'names', 'nosh', 'jane', 'bettersn', 'south', 'stability', 'velachery', 'yelling', 'husband', 'sk38xh', 'ruthful', 'sed', 'subscrition', '7th', 'pub', 'lifpartnr', 'fools', 'gail', 'drum', '08719899229', 'outdoors', 'mgs', 'raj', 'google', 'digital', 'champlaxigating', 'console', '99', 'reffering', 'hire', 'mids', 'shoot', 'stool', 'chiong', 'cutefrnd', 'meds', 'chasing', 'mylife', 'txt43', 'korche', 'offering', 'hopeso', 'standard', 'the', '5226', 'hug', 'wanting', 'recorder', 'adewale', 'his', 'entropication', 'checkmate', 'frontierville', 'yest', 'bedroom', 'twiggs', 'mums', 'bits', 'stuff', 'tim', 'xavier', 'prominent', 'beautiful', 'harish', '1b6a5ecef91ff9', 'expression', 'salary', 'apart', 'minnaminunginte', 'nichols', 'bhaji', 'collecting', 'embarassing', 'box39822', '146tf150p', 'jiayin', 'dine', '09050003091', 'joke', 'fear', '89693', 'still', 'stay', 'violet', 'mmm', 'easily', 'customersqueries', '2wks', 'dileep', 'prior', 'buyers', 'patent', 'breather', 'oso', 'juicy', 'timings', 'ah', 'gotmarried', 'watever', 'nte', 'power', 'depression', 'kg', 'concerned', 'answered', 'min', 'special', 'probs', 'work', 'guoyang', 'hypertension', 'deeraj', '8wp', 'bong', 'deal', '88600', 'mist', 'conversations', 'nitz', 'je', 'shouting', 'convinced', 'solved', 'costing', 'pity', 'dokey', 'na', 'stoners', 'buz', 'because', 'thinkthis', 'po', 'rumbling', 'monday', 'maraikara', 'uup', 'depends', 'yhl', 'haul', 'ything', '28days', 'okay', 'unusual', 'motherfucker', 'vaazhthukkal', 'act', 'idps', 'directly', 'phoenix', 'minecraft', 'sugababes', 'laughing', 'individual', '861', 'comp', 'hunting', 'randomlly', 'xxx', 'fromwrk', 'gf', 'plane', 'duchess', '07732584351', 'sale', 'la', 'haiyoh', 'fellow', '45239', 'weaseling', 'coming', 'counts', 'lucozade', 'badass', 'smoke', 'skip', '872', '2optout', 'mob', 'ext', 'loneliness', 'zindgi', 'management', 'ndship', 'hella', 'morefrmmob', 'fal', 'messy', 'cum', 'guessin', 'gang', 'aha', '08715705022', 'w1j6hl', '08715205273', '9153', 'wine', 'divert', 'did', 'secret', 'katexxx', 'courageous', 'connections', '2005', 'canal', 'raji', '7am', 'cheery', 'wheat', '09050001295', 'current', 'noun', 'voted', 'capital', 'eldest', 'foley', 'gm', 'mitsake', 'burnt', 'subscriptions', '2price', 'skinny', 'vouch4me', 'guess', 'bahamas', '4742', 'cabin', 'there', 'syd', 'seconds', 'frndshp', 'guild', 'die', 'auntie', 'analysis', 'fffff', 'kintu', 'help08718728876', 'screwd', 'goods', 'hanuman', 'scallies', 'arab', 'completely', 'sullivan', 'approved', 'barred', 'pints', 'haiz', 'subscriber', 'comedy', 'beads', 'urination', 'pongal', 'jog', 'tm', 'relation', 'congratulation', 'telphone', 'clearing', 'w1j', 'habba', 'chosen', 'view', 'effect', 'neighbour', 'telediscount', 'specially', 'comin', 'ic', 'life', 'drunken', 'sleepy', '09050000555', 'rule', 'nick', 'tool', 'dob', 'feel', 'envy', 'disconnect', 'till', 'kickoff', 'txtx', 'rental', '1tulsi', 'perspective', '08718725756', 'shaking', '69200', '449071512431', 'othrs', 'worse', 'tom', '2kbsubject', 'amplikater', 'ctxt', 'pretsorginta', 'deviousbitch', 'steve', 'praying', 'stuffing', '09099726395', 'side', 'wlcome', 'car', 'thru', 'only', 'think', 'goodmate', 'prevent', 'kiosk', 'reslove', 'novelty', 'bites', 'steering', 'thk', 'paining', 'nok', 'frm', 'also', 'mk45', 'pass', 'crash', 'handsome', 'tip', 'tv', 'customercare', 'mandy', 'shanil', 'interest', 'exercise', 'possessive', 'cable', '8027', 'conditions', 'breath', 'rang', 'fridays', 'lim', 'box177', 'unsubscribed', 'helpful', 'pale', '7', 'reset', '0871', 'valentines', 'hoody', 'footprints', 'yi', 'nothin', 'mre', '5mls', 'afford', '450', 'diseases', 'hurricanes', 'mmmm', 'tariffs', 'birla', 'painful', 'olowoyey', 'something', 'sea', 'mjzgroup', 'somewhere', 'weather', 'sapna', 'finalise', 'fullonsms', 'apples', 'inmind', 'fo', 'tomo', 'lightly', '09066382422', 'creative', 'aint', 'sentiment', 'avoiding', 'items', 'gee', 'provider', 'transcribing', 'greece', 'kadeem', 'messaging', 'frnd', 'moby', 'hum', 'eatin', 'doubletxt', 'admit', 'chop', 'chechi', 'fixed', '87021', 'relatives', 'speak', '8lb', 'hooked', 'lib', 'ths', 'lover', 'sticky', '88222', 'rememberi', 'isv', 'member', 'gv', 'one', 'spirit', 'shaping', 'okday', 'path', 'irritation', 'swhrt', 'meetins', 'missionary', 'picked', 'lyrics', 'upload', 'melle', 'aftr', 'lovly', 'front', 'complete', 'doggin', 'thew', 'closer', 'mobiles', '69669', 'guidance', 'uncles', 'printer', 'project', 'acl03530150pm', 'docks', 'panalam', 'allow', 'charged', 'uterus', 'caller', 'recently', 'accept', 'cons', 'breathe', 'hp20', '8007', 'plans', 'secs', 'shu', 'closed', 'five', '169', 'lamp', 'go2', 'becz', '5free', 'murdered', 'shaved', 'excuses', 'layin', 'crap', 'fixd', 'reacting', 'name1', 'deer', 'dnot', 'argue', 'fox', 'bin', 'notxt', 'skype', 'lions', '100p', 'throws', 'maggi', '10p', 'as', 'la32wu', 'saucy', 'scream', 'late', 'brings', 'blake', 'held', 'westonzoyland', 'gona', 'uncut', 'stranger', 'reason', 'chuck', 'l8rs', 'red', 'po19', 'img', 'wrc', 'deluxe', 'gorgeous', 'takes', '3mobile', 'rofl', 'jeetey', 'rakhesh', '09061790125', 'muah', 'everythin', '26th', 'achieve', 'seing', 'theplace', '3hrs', 'jam', 'performed', 'happiness', 'leftovers', 'stopped', 'lots', 'propsd', 'vic', 'newsletter', 'searching', 'erm', '09064019014', 'brah', 'exterminator', '4217', 'trying', 'gota', 'cnn', 'ps', 'pandy', 'casualty', 'shorts', 'first', 'swalpa', 'pros', 'simpsons', '4041', 'jenny', 'farrell', 'vinobanagar', 'calls', 'cysts', 'blue', '09065171142', 'laden', 'transfr', 'minded', 'rr', 'closes', 'mustprovide', 'reckon', 'lubly', 'windy', 'avalarr', 'footy', 'sall', 'ow', 'tc', 'unfortuntly', 'give', 'em', 'paul', 'fuuuuck', 'surrender', 'franyxxxxx', 'argument', 'audrie', 'cdgt', '730', 'baig', 'coca', 'neither', '447797706009', 'slowing', 'mt', 'fgkslpopw', 'ls1', 'yep', 'adding', 'need', 'luckily', 'busetop', 'effects', 'listed', 'spatula', '_', 'ethnicity', 'bbc', 'compare', 'cme', 'tryin', 'haha', 'phone750', 'hospitals', 'blocked', 'fifteen', '2025050', 'degree', 'joy', 'using', 'toppoly', 'whens', 'active', 'west', '24m', 'marvel', 'manual', 'death', 'inner', 'skint', 'valuing', 'event', 'practice', 'coveragd', 'beware', '08452810075over18', 'athome', 'aiyah', 'close', 'mu', 'terror', 'neglet', '68866', 'better', 'seeds', '2stoptxt', 'results', 'hours', '09063458130', 'amt', 'evening', 'laid', 'sections', 'doublemins', 'brought', 'travelled', '3uz', 'dark', 'rcvd', 'filthyguys', 'motivating', 'quizzes', 'stayin', 'loosu', '4brekkie', '09053750005', 'flirting', 'advice', '1im', 'jap', 'terrorist', 'they', 'disastrous', 'play', 'germany', 'eire', 'hmmm', 'interesting', 'planet', 'sharing', 'faggy', 'greet', 'visiting', 'cann', 'dedicated', 'resolved', '08701417012150p', 'africa', 'dirty', 'wahleykkum', 'show', 'mid', 'lead', 'register', 'santacalling', 'pc1323', 'wa', '021', 'remembered', '09066350750', 'breaks', 'serena', 'instant', 'notifications', 'fatty', 'quote', 'gep', 'slurp', 'definitely', 'unredeemed', 'wizzle', 'aslamalaikkum', 're', 'exciting', 'meatballs', 'st', '37819', 'sender', 'prizes', 'occupy', 'ubandu', '153', 'nasdaq', '113', 'decking', 'def', 'stuck', '18yrs', 'massage', 'hurried', 'sec', 'claims', 'along', 'petexxx', 'ill', 'summer', 'k61', 'managed', 'expiry', 'anyones', 'receiving', 'delhi', 'ifink', 'hadn', 'bffs', 'smiled', 'digi', 'tke', 'tap', 'yen', 'knows', '85', 'thinks', 'buns', 'gsoh', 'web', 'smoothly', 'qbank', 'emotion', 'hsbc', 'eh74rr', 'enjoyed', 'eh', 'urgoin', 'shld', 'inconsiderate', '08718727870150ppm', 'michael', 'payed', 'panther', 'ur', 'many', 'crushes', 'compliments', 'latr', 'waiting', '08712402902', 'cts', 'exhibition', '09061701851', 'ba128nnfwfly150ppm', '07090201529', 'px3748', 'winnersclub', 'irritates', '82050', 'quitting', 'rocks', 'arises', 'theacusations', 'over', 'demand', 'westlife', 'fyi', 'cross', 'whassup', 'flirt', 'grinder', 'edwards', 'box97n7qp', 'tips', 'anymore', 'citylink', 'thts', 'staying', 'low', 'concentrating', 'genuine', 'logo', 'reserve', 'kiss', 'tree', 'recovery', 'hunny', 'collection', 'constantly', 'valentine', 'purple', 'macleran', 'pract', '7cfca1a', 'desk', 'inr', 'bold', 'three', 'reaction', 'a21', 'pain', 'gender', '8th', 'accounting', 'bx420', 'born', '27', 'likeyour', '40gb', 'poem', 'photo', 'words', 'worrying', '05', 'persian', 'vegas', 'singapore', 'otside', 'tol', 'determine', 'opinion', 'ground', 'taxes', 'hiya', 'shrink', 'trade', 'msg', 'njan', 'heading', 'mrt', 'hotmix', 'tigress', 'happy', 'thanx4', 'aunties', 'pap', '08719180219', 'actor', 'coping', 'best', 'no1', 'spiffing', 'sabarish', 'beverage', 'kilos', 'covers', 'premier', 'prove', 'diddy', 'promised', '5min', 'literally', 'lifebook', 'affairs', 'noice', 'else', 'dearly', 'nb', 'wishing', 'smokin', 'prasad', 'mca', 'woot', 'starwars3', 'toyota', 'load', '125gift', 'tram', 'on', 'coimbatore', 'selflessness', 'clear', 'jerry', 'praveesh', 'not', 'kids', 'tissco', 'pls', 'munsters', 'man', '09050280520', 'rightio', 'backdoor', 'flow', 'wotu', 'visionsms', 'unbreakable', '09064015307', 'tel', 'com', 'someonone', 'max6', 'loved', 'tosend', 'shoulders', 'verify', 'e', 'rply', '89123', 'nora', 'wheellock', 'logoff', 'must', 'replied', 'strike', 'arrow', 'selected', 'pura', '78', 'spouse', 'heap', 'updat', 'hanger', 'refused', 'goodevening', 'rally', 'marandratha', 'janx', 'mutations', 'wounds', 'cakes', 'peeps', 'somewhr', 'language', 'kz', 'type', 'agent', 'calling', 'evry1', 'pump', 'anthony', 'sao', 'frndship', 'hyde', 'relaxing', 'saibaba', 'completed', 'best1', 'rec', '80086', 'wnt', 'album', 'grl', 'ilol', '1win150ppmx3', 'alto18', 'titles', 'instead', 'careers', 'itwhichturnedinto', 'dirt', 'usa', '11pm', 'mumhas', 'y87', 'wendy', 'christians', 'nicky', 'scenario', 'drove', 'responsibilities', 'wylie', 'paths', 'pouts', 'meals', 'catching', 'txttowin', 'yifeng', 'visitors', 'mobs', '10th', 'murder', 'tirunelvai', '6zf', 'october', '3rd', 'favour', 'preferably', 'thuglyfe', 'aluable', 'dollar', 'anyplaces', 'kidz', 'breezy', 'witot', 'calculation', 'wishin', 'gmw', 'instructions', '50', 'refunded', '7634', '7pm', 'fuck', 'qet', '08718727868', 'carpark', 'madam', 'snogs', 'pride', 'snuggles', 'butt', 'www', 'together', 'spys', 'elaya', 'respect', '84', 'wating', 'kissing', '69888', 'fallen', 'sponsors', '08006344447', 'jason', '3030', 'ltd', '0800', 'punto', 'factory', 'yet', 'adrian', '09050000460', 'persevered', 'shoranur', 'sashimi', '2moro', 'receipt', 'warming', 'msgrcvd', 'champ', 'birds', 'bridal', 'apeshit', 'site', 'forms', 'configure', 'paid', 'fruit', '420', 'upd8', '80608', 'messenger', '07', 'anal', 'kick', 'wearing', 'shouted', '07123456789', 'anna', '1956669', 'blank', 'sprint', 'energy', 'sit', 'wake', 'hint', 'mindset', 'threw', 'creep', 'statements', 'spam', 'swann', 'flat', 'disturb', 'accounts', 'united', 'subscriptn3gbp', 'planning', 'avent', 'merely', 'guessed', 'measure', 'differ', 'olayiwola', 'lor', 'steed', 'who', 'galileo', '5249', 'chik', 'aa', 'ignore', 'payasam', 'box326', 'pdate_now', 'grams', 'by', 'malarky', 'meanwhile', 'chatting', 'dracula', 'shola', 'zoe', 'trends', 'oooh', 'sorts', 'shun', 'bk', 'mofo', 'comuk', 'k718', '25p', 'commercial', 'persolvo', 'signal', 'txt', 'bcm4284', '08452810073', 'sha', 'txt82228', 'thus', 'bye', 'egg', 'paru', 'italian', 'nvm', 'plural', 'illspeak', 'four', 'attitude', 'movie', 'eng', 'bars', 'realized', 'cooked', 'defer', 'local', 'january', 'chg', 'my', '8pm', 'smsservices', 'reference', 'deck', 'filth', 'kath', 'number', 'football', '0430', 'xchat', '09066364311', 'lets', 'hello', 'those', 'clarification', 'nokias', 'hai', 'grocers', 'priya', 'fab', '391784', 'sory', 'paranoid', 'should', 'spile', 'senor', '762', 'logon', 'misplaced', 'cr9', '31p', '08700621170150p', 'fireplace', 'unable', 'flying', '12hrs', 'goes', 'b4', 'tone', '80488', 'while', 'j5q', 'stitch', 'engagement', 'really', 'luvs', 'nachos', '449050000301', 'bac', 'conected', 'aaooooright', 'merry', 'agree', 'size', 'thought', 'remain', 'treat', 'developed', 'clearly', 'monthly', 'izzit', 'ref', 'armenia', 'weirdest', 'grinule', 'smoked', 'eyes', '08712300220', '08704439680ts', 'tiime', 'prone', 'machi', 'fetch', 'ericsson', 'signing', 'beyond', 'realize', 'start', 'carry', '83355', 'pobox12n146tf15', 'achan', 'cruise', 'fill', 'cal', 'grandmas', 'xxsp', 'slowly', 'aquarius', 'wesley', 'appeal', 'f', 'champneys', 'oic', 'joined', 'foned', '6days', 'case', '2stoptx', 'sos', 'if', 'march', 'and', 'vth', 'av', 'sheffield', 'muhommad', 'blonde', '08714712394', 'traffic', 'resolution', 'loan', 'dasara', 'prey', 'ithink', '5wb', 'bluff', 'nuther', 'tolerance', 'hussey', 'port', 'general', 'tried', 'explicitly', 'victors', 'dough', 'ay', 'perpetual', 'fringe', 'registered', 'org', 'theyre', 'imagine', 'valid12hrs', 'jackpot', 'mycalls', 'jacket', '15pm', 'tune', 'monthlysubscription', 'credits', 'sorrows', 'bird', 'buying', 'served', 'mobsi', 'recpt', 'trips', 'george', '09058095107', 'overa', 'eurodisinc', 'salt', 'yijue', '08718730555', 'uks', '4the', 'aiyar', 'with', 'asia', '528', '7mp', 'present', 'leads', 'helloooo', 'yrs', 'no', 'made', '82277', 'him', 'posts', 'formal', '09063442151', 'lay', 'reminding', 'jan', 'contents', 'genius', 'stick', 'ron', 'arnt', 'subscribed', 'asthere', 'optout', 'ava', 'warner', 'lyfu', 'pissed', 'build', '02072069400', 'prediction', '09071512433', 'loxahatchee', '08712405020', 'independently', 'whispers', '3230', 'its', 'moral', 'mens', 'chase', 'eveb', 'goodfriend', 'studyn', 'rounds', 'alaipayuthe', 'feellikw', 'latest', 'lyf', 'uworld', 'txtauction', 'showr', 'gifts', '9ja', 'short', '09090204448', 'gibbs', 'exist', 'ello', 'orchard', 'landmark', 'reminder', 'darlin', 'couch', 'regret', 'drvgsto', 'fire', 'hvae', 'dodda', 'boundaries', 'txtno', 'lccltd', 'g2', 'keyword', '9758', 'fastest', 'natwest', 'role', 'studies', 'drug', 'penis', 'joining', 'weren', 'dip', '08', 'died', 'can', 'retard', 'attractive', 'syria', 'oble', 'month', 'curry', 'garbage', 'treatin', 'wallet', 'coupla', 'courage', 'msg150p', 'accessible', 'stone', 'worlds', 'arrested', 'intro', 'hmv1', 'tho', 'b4280703', 'toughest', '1500', 'moves', 'ratio', 'box434sk38wp150ppm18', 'ts', 'stalking', '75', 'aco', 'canada', 'sick', 'tbs', 'pokkiri', 'linux', 'parties', 'responce', '1cup', 'happen', 'told', 'ibiza', 'kuch', 'express', 'noe', 'prescription', 'grazed', 'starving', 'saristar', 'harder', 'super', 'chat', 'kallis', 'sooner', 'wap', 'light', 'references', 'sar', 'm227xy', 'unsecured', 'fro', 'clearer', 'ta', 'leaves', 'jp', 'way', 'stayed', 'lennon', 'doesnt', 'nytho', 'hiding', 'muchand', 'scarcasim', 'large', 'uwana', 'eaten', 'tomeandsaid', 'wining', 'stomach', 'placement', 'm8s', 'quick', 'infections', 'notified', 'yetty', 'jules', 'sarcastic', 'brighten', 'congratulations', 'racing', 'lindsay', 'simply', 'mushy', 'god', 'snowman', 'agalla', 'hlday', 'booked', 'discuss', 'textand', 'mark', 'childish', 'annie', '08708034412', 'mess', 'watches', 'uncomfortable', 'overdose', 'kingdom', '09058094594', 'found', 'arestaurant', 'envelope', 'plm', 'trip', 'fuelled', 'fav', 'real', 'phones', 'debating', 'bloomberg', 'chinchillas', 'dehydrated', 'maintain', 'had', 'hoping'}"
     ]
    },
    {
     "name": "stdout",
     "output_type": "stream",
     "text": [
      "\n"
     ]
    }
   ],
   "source": [
    "words = set()\n",
    "for msg in train_data['SMS'] :\n",
    "    for word in msg :\n",
    "        words.add(word)\n",
    "print(words)"
   ]
  },
  {
   "cell_type": "markdown",
   "id": "d494a46d",
   "metadata": {},
   "source": [
    "Number of unique words in train dataset"
   ]
  },
  {
   "cell_type": "code",
   "execution_count": 20,
   "id": "7d164356",
   "metadata": {},
   "outputs": [
    {
     "data": {
      "text/plain": [
       "7755"
      ]
     },
     "execution_count": 20,
     "metadata": {},
     "output_type": "execute_result"
    }
   ],
   "source": [
    "len(words)"
   ]
  },
  {
   "cell_type": "code",
   "execution_count": 21,
   "id": "04d9a339",
   "metadata": {
    "scrolled": true
   },
   "outputs": [],
   "source": [
    "word_counts_per_sms = {unique_word: [0] * len(train_data['SMS']) for unique_word in words}\n",
    "for index, sms in enumerate(train_data['SMS']):\n",
    "    for word in sms:\n",
    "        word_counts_per_sms[word][index] += 1"
   ]
  },
  {
   "cell_type": "code",
   "execution_count": 22,
   "id": "5f0a5c5e",
   "metadata": {},
   "outputs": [
    {
     "data": {
      "text/html": [
       "<div>\n",
       "<style scoped>\n",
       "    .dataframe tbody tr th:only-of-type {\n",
       "        vertical-align: middle;\n",
       "    }\n",
       "\n",
       "    .dataframe tbody tr th {\n",
       "        vertical-align: top;\n",
       "    }\n",
       "\n",
       "    .dataframe thead th {\n",
       "        text-align: right;\n",
       "    }\n",
       "</style>\n",
       "<table border=\"1\" class=\"dataframe\">\n",
       "  <thead>\n",
       "    <tr style=\"text-align: right;\">\n",
       "      <th></th>\n",
       "      <th>upto</th>\n",
       "      <th>lobby</th>\n",
       "      <th>green</th>\n",
       "      <th>dictionary</th>\n",
       "      <th>nigeria</th>\n",
       "      <th>2getha</th>\n",
       "      <th>beauty</th>\n",
       "      <th>chart</th>\n",
       "      <th>dangerous</th>\n",
       "      <th>lotto</th>\n",
       "      <th>...</th>\n",
       "      <th>fav</th>\n",
       "      <th>real</th>\n",
       "      <th>phones</th>\n",
       "      <th>debating</th>\n",
       "      <th>bloomberg</th>\n",
       "      <th>chinchillas</th>\n",
       "      <th>dehydrated</th>\n",
       "      <th>maintain</th>\n",
       "      <th>had</th>\n",
       "      <th>hoping</th>\n",
       "    </tr>\n",
       "  </thead>\n",
       "  <tbody>\n",
       "    <tr>\n",
       "      <th>0</th>\n",
       "      <td>0</td>\n",
       "      <td>0</td>\n",
       "      <td>0</td>\n",
       "      <td>0</td>\n",
       "      <td>0</td>\n",
       "      <td>0</td>\n",
       "      <td>0</td>\n",
       "      <td>0</td>\n",
       "      <td>0</td>\n",
       "      <td>0</td>\n",
       "      <td>...</td>\n",
       "      <td>0</td>\n",
       "      <td>0</td>\n",
       "      <td>0</td>\n",
       "      <td>0</td>\n",
       "      <td>0</td>\n",
       "      <td>0</td>\n",
       "      <td>0</td>\n",
       "      <td>0</td>\n",
       "      <td>0</td>\n",
       "      <td>0</td>\n",
       "    </tr>\n",
       "    <tr>\n",
       "      <th>1</th>\n",
       "      <td>0</td>\n",
       "      <td>0</td>\n",
       "      <td>0</td>\n",
       "      <td>0</td>\n",
       "      <td>0</td>\n",
       "      <td>0</td>\n",
       "      <td>0</td>\n",
       "      <td>0</td>\n",
       "      <td>0</td>\n",
       "      <td>0</td>\n",
       "      <td>...</td>\n",
       "      <td>0</td>\n",
       "      <td>0</td>\n",
       "      <td>0</td>\n",
       "      <td>0</td>\n",
       "      <td>0</td>\n",
       "      <td>0</td>\n",
       "      <td>0</td>\n",
       "      <td>0</td>\n",
       "      <td>0</td>\n",
       "      <td>0</td>\n",
       "    </tr>\n",
       "    <tr>\n",
       "      <th>2</th>\n",
       "      <td>0</td>\n",
       "      <td>0</td>\n",
       "      <td>0</td>\n",
       "      <td>0</td>\n",
       "      <td>0</td>\n",
       "      <td>0</td>\n",
       "      <td>0</td>\n",
       "      <td>0</td>\n",
       "      <td>0</td>\n",
       "      <td>0</td>\n",
       "      <td>...</td>\n",
       "      <td>0</td>\n",
       "      <td>0</td>\n",
       "      <td>0</td>\n",
       "      <td>0</td>\n",
       "      <td>0</td>\n",
       "      <td>0</td>\n",
       "      <td>0</td>\n",
       "      <td>0</td>\n",
       "      <td>0</td>\n",
       "      <td>0</td>\n",
       "    </tr>\n",
       "    <tr>\n",
       "      <th>3</th>\n",
       "      <td>0</td>\n",
       "      <td>0</td>\n",
       "      <td>0</td>\n",
       "      <td>0</td>\n",
       "      <td>0</td>\n",
       "      <td>0</td>\n",
       "      <td>0</td>\n",
       "      <td>0</td>\n",
       "      <td>0</td>\n",
       "      <td>0</td>\n",
       "      <td>...</td>\n",
       "      <td>0</td>\n",
       "      <td>0</td>\n",
       "      <td>0</td>\n",
       "      <td>0</td>\n",
       "      <td>0</td>\n",
       "      <td>0</td>\n",
       "      <td>0</td>\n",
       "      <td>0</td>\n",
       "      <td>0</td>\n",
       "      <td>0</td>\n",
       "    </tr>\n",
       "    <tr>\n",
       "      <th>4</th>\n",
       "      <td>0</td>\n",
       "      <td>0</td>\n",
       "      <td>0</td>\n",
       "      <td>0</td>\n",
       "      <td>0</td>\n",
       "      <td>0</td>\n",
       "      <td>0</td>\n",
       "      <td>0</td>\n",
       "      <td>0</td>\n",
       "      <td>0</td>\n",
       "      <td>...</td>\n",
       "      <td>0</td>\n",
       "      <td>0</td>\n",
       "      <td>0</td>\n",
       "      <td>0</td>\n",
       "      <td>0</td>\n",
       "      <td>0</td>\n",
       "      <td>0</td>\n",
       "      <td>0</td>\n",
       "      <td>0</td>\n",
       "      <td>0</td>\n",
       "    </tr>\n",
       "  </tbody>\n",
       "</table>\n",
       "<p>5 rows × 7755 columns</p>\n",
       "</div>"
      ],
      "text/plain": [
       "   upto  lobby  green  dictionary  nigeria  2getha  beauty  chart  dangerous  \\\n",
       "0     0      0      0           0        0       0       0      0          0   \n",
       "1     0      0      0           0        0       0       0      0          0   \n",
       "2     0      0      0           0        0       0       0      0          0   \n",
       "3     0      0      0           0        0       0       0      0          0   \n",
       "4     0      0      0           0        0       0       0      0          0   \n",
       "\n",
       "   lotto  ...  fav  real  phones  debating  bloomberg  chinchillas  \\\n",
       "0      0  ...    0     0       0         0          0            0   \n",
       "1      0  ...    0     0       0         0          0            0   \n",
       "2      0  ...    0     0       0         0          0            0   \n",
       "3      0  ...    0     0       0         0          0            0   \n",
       "4      0  ...    0     0       0         0          0            0   \n",
       "\n",
       "   dehydrated  maintain  had  hoping  \n",
       "0           0         0    0       0  \n",
       "1           0         0    0       0  \n",
       "2           0         0    0       0  \n",
       "3           0         0    0       0  \n",
       "4           0         0    0       0  \n",
       "\n",
       "[5 rows x 7755 columns]"
      ]
     },
     "execution_count": 22,
     "metadata": {},
     "output_type": "execute_result"
    }
   ],
   "source": [
    "word_counts = pd.DataFrame(word_counts_per_sms)\n",
    "word_counts.head()"
   ]
  },
  {
   "cell_type": "code",
   "execution_count": 23,
   "id": "b9875836",
   "metadata": {},
   "outputs": [
    {
     "data": {
      "text/html": [
       "<div>\n",
       "<style scoped>\n",
       "    .dataframe tbody tr th:only-of-type {\n",
       "        vertical-align: middle;\n",
       "    }\n",
       "\n",
       "    .dataframe tbody tr th {\n",
       "        vertical-align: top;\n",
       "    }\n",
       "\n",
       "    .dataframe thead th {\n",
       "        text-align: right;\n",
       "    }\n",
       "</style>\n",
       "<table border=\"1\" class=\"dataframe\">\n",
       "  <thead>\n",
       "    <tr style=\"text-align: right;\">\n",
       "      <th></th>\n",
       "      <th>Label</th>\n",
       "      <th>SMS</th>\n",
       "      <th>upto</th>\n",
       "      <th>lobby</th>\n",
       "      <th>green</th>\n",
       "      <th>dictionary</th>\n",
       "      <th>nigeria</th>\n",
       "      <th>2getha</th>\n",
       "      <th>beauty</th>\n",
       "      <th>chart</th>\n",
       "      <th>...</th>\n",
       "      <th>fav</th>\n",
       "      <th>real</th>\n",
       "      <th>phones</th>\n",
       "      <th>debating</th>\n",
       "      <th>bloomberg</th>\n",
       "      <th>chinchillas</th>\n",
       "      <th>dehydrated</th>\n",
       "      <th>maintain</th>\n",
       "      <th>had</th>\n",
       "      <th>hoping</th>\n",
       "    </tr>\n",
       "  </thead>\n",
       "  <tbody>\n",
       "    <tr>\n",
       "      <th>0</th>\n",
       "      <td>spam</td>\n",
       "      <td>[urgent, we, are, trying, to, contact, u, toda...</td>\n",
       "      <td>0</td>\n",
       "      <td>0</td>\n",
       "      <td>0</td>\n",
       "      <td>0</td>\n",
       "      <td>0</td>\n",
       "      <td>0</td>\n",
       "      <td>0</td>\n",
       "      <td>0</td>\n",
       "      <td>...</td>\n",
       "      <td>0</td>\n",
       "      <td>0</td>\n",
       "      <td>0</td>\n",
       "      <td>0</td>\n",
       "      <td>0</td>\n",
       "      <td>0</td>\n",
       "      <td>0</td>\n",
       "      <td>0</td>\n",
       "      <td>0</td>\n",
       "      <td>0</td>\n",
       "    </tr>\n",
       "    <tr>\n",
       "      <th>1</th>\n",
       "      <td>ham</td>\n",
       "      <td>[1, i, don, t, have, her, number, and, 2, its,...</td>\n",
       "      <td>0</td>\n",
       "      <td>0</td>\n",
       "      <td>0</td>\n",
       "      <td>0</td>\n",
       "      <td>0</td>\n",
       "      <td>0</td>\n",
       "      <td>0</td>\n",
       "      <td>0</td>\n",
       "      <td>...</td>\n",
       "      <td>0</td>\n",
       "      <td>0</td>\n",
       "      <td>0</td>\n",
       "      <td>0</td>\n",
       "      <td>0</td>\n",
       "      <td>0</td>\n",
       "      <td>0</td>\n",
       "      <td>0</td>\n",
       "      <td>0</td>\n",
       "      <td>0</td>\n",
       "    </tr>\n",
       "    <tr>\n",
       "      <th>2</th>\n",
       "      <td>ham</td>\n",
       "      <td>[party, s, at, my, place, at, usf, no, charge,...</td>\n",
       "      <td>0</td>\n",
       "      <td>0</td>\n",
       "      <td>0</td>\n",
       "      <td>0</td>\n",
       "      <td>0</td>\n",
       "      <td>0</td>\n",
       "      <td>0</td>\n",
       "      <td>0</td>\n",
       "      <td>...</td>\n",
       "      <td>0</td>\n",
       "      <td>0</td>\n",
       "      <td>0</td>\n",
       "      <td>0</td>\n",
       "      <td>0</td>\n",
       "      <td>0</td>\n",
       "      <td>0</td>\n",
       "      <td>0</td>\n",
       "      <td>0</td>\n",
       "      <td>0</td>\n",
       "    </tr>\n",
       "    <tr>\n",
       "      <th>3</th>\n",
       "      <td>ham</td>\n",
       "      <td>[mm, not, entirely, sure, i, understood, that,...</td>\n",
       "      <td>0</td>\n",
       "      <td>0</td>\n",
       "      <td>0</td>\n",
       "      <td>0</td>\n",
       "      <td>0</td>\n",
       "      <td>0</td>\n",
       "      <td>0</td>\n",
       "      <td>0</td>\n",
       "      <td>...</td>\n",
       "      <td>0</td>\n",
       "      <td>0</td>\n",
       "      <td>0</td>\n",
       "      <td>0</td>\n",
       "      <td>0</td>\n",
       "      <td>0</td>\n",
       "      <td>0</td>\n",
       "      <td>0</td>\n",
       "      <td>0</td>\n",
       "      <td>0</td>\n",
       "    </tr>\n",
       "    <tr>\n",
       "      <th>4</th>\n",
       "      <td>ham</td>\n",
       "      <td>[yes, we, are, chatting, too]</td>\n",
       "      <td>0</td>\n",
       "      <td>0</td>\n",
       "      <td>0</td>\n",
       "      <td>0</td>\n",
       "      <td>0</td>\n",
       "      <td>0</td>\n",
       "      <td>0</td>\n",
       "      <td>0</td>\n",
       "      <td>...</td>\n",
       "      <td>0</td>\n",
       "      <td>0</td>\n",
       "      <td>0</td>\n",
       "      <td>0</td>\n",
       "      <td>0</td>\n",
       "      <td>0</td>\n",
       "      <td>0</td>\n",
       "      <td>0</td>\n",
       "      <td>0</td>\n",
       "      <td>0</td>\n",
       "    </tr>\n",
       "  </tbody>\n",
       "</table>\n",
       "<p>5 rows × 7757 columns</p>\n",
       "</div>"
      ],
      "text/plain": [
       "  Label                                                SMS  upto  lobby  \\\n",
       "0  spam  [urgent, we, are, trying, to, contact, u, toda...     0      0   \n",
       "1   ham  [1, i, don, t, have, her, number, and, 2, its,...     0      0   \n",
       "2   ham  [party, s, at, my, place, at, usf, no, charge,...     0      0   \n",
       "3   ham  [mm, not, entirely, sure, i, understood, that,...     0      0   \n",
       "4   ham                      [yes, we, are, chatting, too]     0      0   \n",
       "\n",
       "   green  dictionary  nigeria  2getha  beauty  chart  ...  fav  real  phones  \\\n",
       "0      0           0        0       0       0      0  ...    0     0       0   \n",
       "1      0           0        0       0       0      0  ...    0     0       0   \n",
       "2      0           0        0       0       0      0  ...    0     0       0   \n",
       "3      0           0        0       0       0      0  ...    0     0       0   \n",
       "4      0           0        0       0       0      0  ...    0     0       0   \n",
       "\n",
       "   debating  bloomberg  chinchillas  dehydrated  maintain  had  hoping  \n",
       "0         0          0            0           0         0    0       0  \n",
       "1         0          0            0           0         0    0       0  \n",
       "2         0          0            0           0         0    0       0  \n",
       "3         0          0            0           0         0    0       0  \n",
       "4         0          0            0           0         0    0       0  \n",
       "\n",
       "[5 rows x 7757 columns]"
      ]
     },
     "execution_count": 23,
     "metadata": {},
     "output_type": "execute_result"
    }
   ],
   "source": [
    "final_train_data = pd.concat([train_data, word_counts], axis=1)\n",
    "final_train_data.head()"
   ]
  },
  {
   "cell_type": "code",
   "execution_count": 24,
   "id": "da4f2c57",
   "metadata": {},
   "outputs": [],
   "source": [
    "spam = final_train_data[final_train_data['Label'] == 'spam']\n",
    "ham = final_train_data[final_train_data['Label'] == 'ham']"
   ]
  },
  {
   "cell_type": "markdown",
   "id": "6af5a6f0",
   "metadata": {},
   "source": [
    "Now, we need to calculate the probability of spam and ham messages,\n",
    "i.e, P(spam) and P(ham)"
   ]
  },
  {
   "cell_type": "code",
   "execution_count": 25,
   "id": "a43be5f8",
   "metadata": {},
   "outputs": [
    {
     "name": "stdout",
     "output_type": "stream",
     "text": [
      "0.1330491361902625 0.8669508638097375\n"
     ]
    }
   ],
   "source": [
    "p_spam = len(spam)/len(final_train_data)\n",
    "p_ham = len(ham)/len(final_train_data)\n",
    "print(p_spam, p_ham)"
   ]
  },
  {
   "cell_type": "code",
   "execution_count": 26,
   "id": "140a5ade",
   "metadata": {},
   "outputs": [],
   "source": [
    "n_words_per_spam_message = spam['SMS'].apply(len)\n",
    "n_spam = n_words_per_spam_message.sum()"
   ]
  },
  {
   "cell_type": "code",
   "execution_count": 27,
   "id": "0a1b9ecb",
   "metadata": {},
   "outputs": [],
   "source": [
    "n_words_per_ham_message = ham['SMS'].apply(len)\n",
    "n_ham = n_words_per_ham_message.sum()"
   ]
  },
  {
   "cell_type": "code",
   "execution_count": 28,
   "id": "f446a7f8",
   "metadata": {},
   "outputs": [],
   "source": [
    "total_words = len(words)\n",
    "alpha = 1"
   ]
  },
  {
   "cell_type": "markdown",
   "id": "5b62b658",
   "metadata": {},
   "source": [
    "## Calculating the parameters"
   ]
  },
  {
   "cell_type": "code",
   "execution_count": 29,
   "id": "b0b9bb95",
   "metadata": {},
   "outputs": [],
   "source": [
    "parameters_spam = {unique_word:0 for unique_word in words}\n",
    "parameters_ham = {unique_word:0 for unique_word in words}"
   ]
  },
  {
   "cell_type": "code",
   "execution_count": 30,
   "id": "f792ce30",
   "metadata": {},
   "outputs": [],
   "source": [
    "for word in words:\n",
    "   n_word_given_spam = spam[word].sum() # spam_messages already defined\n",
    "   p_word_given_spam = (n_word_given_spam + alpha) / (n_spam + alpha*total_words)\n",
    "   parameters_spam[word] = p_word_given_spam\n",
    "\n",
    "   n_word_given_ham = ham[word].sum() # ham_messages already defined\n",
    "   p_word_given_ham = (n_word_given_ham + alpha) / (n_ham + alpha*total_words)\n",
    "   parameters_ham[word] = p_word_given_ham\n"
   ]
  },
  {
   "cell_type": "code",
   "execution_count": 31,
   "id": "8e0d8c94",
   "metadata": {},
   "outputs": [],
   "source": [
    "def classify(sms) :\n",
    "    msg = re.sub('/W',' ',sms)\n",
    "    msg = msg.lower().split()\n",
    "    \n",
    "    p_spam_msg = p_spam\n",
    "    p_ham_msg = p_ham\n",
    "    \n",
    "    for word in msg :\n",
    "        if word in parameters_spam :\n",
    "            p_spam_msg = p_spam_msg * parameters_spam[word]\n",
    "        if word in parameters_ham :\n",
    "            p_ham_msg = p_ham_msg * parameters_ham[word]\n",
    "    print( f'P(Spam|message) : {p_spam_msg}')\n",
    "    print( f'P(Ham|message) : {p_ham_msg}')\n",
    "    \n",
    "    if p_spam_msg > p_ham_msg :\n",
    "        print(\"Label :- Spam\")\n",
    "    elif p_spam_msg < p_ham_msg :\n",
    "        print(\"Label :- Ham\")\n",
    "    else :\n",
    "        print(\"A human has to classify as it have equal probabilities\")"
   ]
  },
  {
   "cell_type": "code",
   "execution_count": 32,
   "id": "f054e8a5",
   "metadata": {},
   "outputs": [
    {
     "name": "stdout",
     "output_type": "stream",
     "text": [
      "P(Spam|message) : 1.0709139805078056e-22\n",
      "P(Ham|message) : 3.800727152627211e-19\n",
      "Label :- Ham\n"
     ]
    }
   ],
   "source": [
    "classify(\"Happy to hear form you Sush. See you soon.\")"
   ]
  },
  {
   "cell_type": "code",
   "execution_count": 33,
   "id": "89a3ffc3",
   "metadata": {},
   "outputs": [
    {
     "name": "stdout",
     "output_type": "stream",
     "text": [
      "P(Spam|message) : 1.3965687857573679e-18\n",
      "P(Ham|message) : 2.1041524592961919e-19\n",
      "Label :- Spam\n"
     ]
    }
   ],
   "source": [
    "classify('WINNER!! This is the secret code to unlock the money: C3421.')"
   ]
  },
  {
   "cell_type": "markdown",
   "id": "90f636bb",
   "metadata": {},
   "source": [
    "Now let's test the model with our test data"
   ]
  },
  {
   "cell_type": "markdown",
   "id": "cd280041",
   "metadata": {},
   "source": [
    "## Measuring the accuracy"
   ]
  },
  {
   "cell_type": "code",
   "execution_count": 34,
   "id": "b5a312d9",
   "metadata": {},
   "outputs": [],
   "source": [
    "def classify_test_data(sms) :\n",
    "    msg = re.sub('/W',' ',sms)\n",
    "    msg = msg.lower().split()\n",
    "    \n",
    "    p_spam_msg = p_spam\n",
    "    p_ham_msg = p_ham\n",
    "    \n",
    "    for word in msg :\n",
    "        if word in parameters_spam :\n",
    "            p_spam_msg = p_spam_msg * parameters_spam[word]\n",
    "        if word in parameters_ham :\n",
    "            p_ham_msg = p_ham_msg * parameters_ham[word]\n",
    "    #print( f'P(Spam|message) : {p_spam_msg}')\n",
    "    #print( f'P(Ham|message) : {p_ham_msg}')\n",
    "    \n",
    "    if p_spam_msg > p_ham_msg :\n",
    "        return 'spam'\n",
    "    elif p_spam_msg < p_ham_msg :\n",
    "        return 'ham'\n",
    "    else :\n",
    "        return 'need human to classify'"
   ]
  },
  {
   "cell_type": "code",
   "execution_count": 35,
   "id": "0e711249",
   "metadata": {},
   "outputs": [
    {
     "data": {
      "text/html": [
       "<div>\n",
       "<style scoped>\n",
       "    .dataframe tbody tr th:only-of-type {\n",
       "        vertical-align: middle;\n",
       "    }\n",
       "\n",
       "    .dataframe tbody tr th {\n",
       "        vertical-align: top;\n",
       "    }\n",
       "\n",
       "    .dataframe thead th {\n",
       "        text-align: right;\n",
       "    }\n",
       "</style>\n",
       "<table border=\"1\" class=\"dataframe\">\n",
       "  <thead>\n",
       "    <tr style=\"text-align: right;\">\n",
       "      <th></th>\n",
       "      <th>Label</th>\n",
       "      <th>SMS</th>\n",
       "      <th>predicted</th>\n",
       "    </tr>\n",
       "  </thead>\n",
       "  <tbody>\n",
       "    <tr>\n",
       "      <th>0</th>\n",
       "      <td>ham</td>\n",
       "      <td>Good night my dear.. Sleepwell&amp;amp;Take care</td>\n",
       "      <td>ham</td>\n",
       "    </tr>\n",
       "    <tr>\n",
       "      <th>1</th>\n",
       "      <td>ham</td>\n",
       "      <td>Sen told that he is going to join his uncle fi...</td>\n",
       "      <td>ham</td>\n",
       "    </tr>\n",
       "    <tr>\n",
       "      <th>2</th>\n",
       "      <td>ham</td>\n",
       "      <td>Thank you baby! I cant wait to taste the real ...</td>\n",
       "      <td>ham</td>\n",
       "    </tr>\n",
       "    <tr>\n",
       "      <th>3</th>\n",
       "      <td>ham</td>\n",
       "      <td>When can ü come out?</td>\n",
       "      <td>ham</td>\n",
       "    </tr>\n",
       "    <tr>\n",
       "      <th>4</th>\n",
       "      <td>ham</td>\n",
       "      <td>No. Thank you. You've been wonderful</td>\n",
       "      <td>ham</td>\n",
       "    </tr>\n",
       "  </tbody>\n",
       "</table>\n",
       "</div>"
      ],
      "text/plain": [
       "  Label                                                SMS predicted\n",
       "0   ham       Good night my dear.. Sleepwell&amp;Take care       ham\n",
       "1   ham  Sen told that he is going to join his uncle fi...       ham\n",
       "2   ham  Thank you baby! I cant wait to taste the real ...       ham\n",
       "3   ham                               When can ü come out?       ham\n",
       "4   ham               No. Thank you. You've been wonderful       ham"
      ]
     },
     "execution_count": 35,
     "metadata": {},
     "output_type": "execute_result"
    }
   ],
   "source": [
    "test_data['predicted'] = test_data['SMS'].apply(classify_test_data)\n",
    "test_data.head()"
   ]
  },
  {
   "cell_type": "markdown",
   "id": "d93ea4a6",
   "metadata": {},
   "source": [
    "We need to compare the predicted values with the actual values to measure how good our spam filter is with classifying new messages. "
   ]
  },
  {
   "cell_type": "markdown",
   "id": "56f7e226",
   "metadata": {},
   "source": [
    "Accuracy = number of correctly classified messages / total classified messages"
   ]
  },
  {
   "cell_type": "code",
   "execution_count": 36,
   "id": "153dc939",
   "metadata": {},
   "outputs": [
    {
     "name": "stdout",
     "output_type": "stream",
     "text": [
      "Correct : 1092\n",
      "Incorrect : 23\n",
      "Accuracy : 0.979372197309417\n"
     ]
    }
   ],
   "source": [
    "crct = 0\n",
    "total = len(test_data)\n",
    "\n",
    "for row in test_data.iterrows():\n",
    "   row = row[1]\n",
    "   if row['Label'] == row['predicted']:\n",
    "      crct += 1\n",
    "print(f\"Correct : {crct}\")\n",
    "print(f\"Incorrect : {total-crct}\")\n",
    "print(f\"Accuracy : {crct/total}\")"
   ]
  },
  {
   "cell_type": "markdown",
   "id": "5a3a65ff",
   "metadata": {},
   "source": [
    "Accuracy is close to 97.93%"
   ]
  }
 ],
 "metadata": {
  "kernelspec": {
   "display_name": "Python 3 (ipykernel)",
   "language": "python",
   "name": "python3"
  },
  "language_info": {
   "codemirror_mode": {
    "name": "ipython",
    "version": 3
   },
   "file_extension": ".py",
   "mimetype": "text/x-python",
   "name": "python",
   "nbconvert_exporter": "python",
   "pygments_lexer": "ipython3",
   "version": "3.11.1"
  }
 },
 "nbformat": 4,
 "nbformat_minor": 5
}
